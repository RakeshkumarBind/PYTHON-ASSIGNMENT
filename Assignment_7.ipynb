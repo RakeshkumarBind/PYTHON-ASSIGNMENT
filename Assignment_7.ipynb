{
 "cells": [
  {
   "cell_type": "markdown",
   "id": "2936a40a",
   "metadata": {},
   "source": [
    "# 1. \n",
    "What is the name of the feature responsible for generating Regex objects?"
   ]
  },
  {
   "cell_type": "markdown",
   "id": "0b4fe21f",
   "metadata": {},
   "source": [
    "<b>Answers:</b><br>\n",
    "    re.compile() is the feature responsible for generation of Regex objects."
   ]
  },
  {
   "cell_type": "code",
   "execution_count": 1,
   "id": "3a55351f",
   "metadata": {},
   "outputs": [
    {
     "name": "stdout",
     "output_type": "stream",
     "text": [
      "re.compile('hello')\n"
     ]
    }
   ],
   "source": [
    "import re\n",
    "x = re.compile(\"hello\")\n",
    "type(x)\n",
    "print(x)"
   ]
  },
  {
   "cell_type": "markdown",
   "id": "510911d2",
   "metadata": {},
   "source": [
    "# 2.\n",
    "Why do raw strings often appear in Regex objects?"
   ]
  },
  {
   "cell_type": "markdown",
   "id": "fde529ad",
   "metadata": {},
   "source": [
    "<b>Answers:</b><br>\n",
    "    Raw strings are often used in regular expressions (regex) objects to avoid unwanted escaping of characters. In Python, a raw string is denoted by placing an 'r' prefix before the string literal.<br>\n",
    "    Regular expressions use various special characters and metacharacters with specific meanings, such as . (dot) matching any character, * (asterisk) indicating zero or more repetitions, \\d representing a digit, etc. However, Python also uses backslashes (\\) as escape characters in regular strings. This can lead to conflicts when using backslashes in regular expressions, as they may be interpreted as escape characters by the Python string literal itself.<br>\n",
    "    To avoid this, raw strings are used in regular expressions. When a string is marked as raw, backslashes are treated as literal characters and not as escape characters. This allows regular expressions to be written more cleanly without the need for excessive escaping.<br>\n",
    "    \n",
    "    Use of raw strings in regular expressions is shown in below examples"
   ]
  },
  {
   "cell_type": "code",
   "execution_count": 8,
   "id": "ee9b64e8",
   "metadata": {},
   "outputs": [
    {
     "name": "stdout",
     "output_type": "stream",
     "text": [
      "12345\n"
     ]
    }
   ],
   "source": [
    "import re\n",
    "\n",
    "pattern = r'\\d+'  # Raw string used in regex pattern\n",
    "\n",
    "text = 'The number is 12345'\n",
    "\n",
    "match = re.search(pattern, text)\n",
    "if match:\n",
    "    print(match.group())"
   ]
  },
  {
   "cell_type": "markdown",
   "id": "1ce21532",
   "metadata": {},
   "source": [
    "# 3.\n",
    "What is the return value of the search() method?"
   ]
  },
  {
   "cell_type": "markdown",
   "id": "20a0159b",
   "metadata": {},
   "source": [
    "<b>Answers:</b><br>\n",
    "    The return value of re.search(pattern,string) method is a match object if the pattern is observed in the string else it returns a None"
   ]
  },
  {
   "cell_type": "code",
   "execution_count": 10,
   "id": "46041a6d",
   "metadata": {},
   "outputs": [
    {
     "name": "stdout",
     "output_type": "stream",
     "text": [
      "Output: <re.Match object; span=(8, 9), match='F'>\n",
      "Output: None\n"
     ]
    }
   ],
   "source": [
    "import re\n",
    "match = re.search('f','Ineuron Full Stack Data Science Program', flags=re.IGNORECASE)\n",
    "print('Output:',match)\n",
    "match = re.search('X','Ineuron Full Stack Data Science Program', flags=re.IGNORECASE)\n",
    "print('Output:',match)"
   ]
  },
  {
   "cell_type": "markdown",
   "id": "f2c960c3",
   "metadata": {},
   "source": [
    "# 4.\n",
    "From a Match item, how do you get the actual strings that match the pattern?"
   ]
  },
  {
   "cell_type": "markdown",
   "id": "45aa9c43",
   "metadata": {},
   "source": [
    "<b>Answers:</b><br>\n",
    "     For Matched items group() methods returns actual strings that match the pattern"
   ]
  },
  {
   "cell_type": "code",
   "execution_count": 12,
   "id": "9c776e14",
   "metadata": {},
   "outputs": [
    {
     "name": "stdout",
     "output_type": "stream",
     "text": [
      "Output: ineuron\n"
     ]
    }
   ],
   "source": [
    "import re\n",
    "match = re.search('ineuron','i an studying data science in ineuron', flags=re.IGNORECASE)\n",
    "print('Output:',match.group())"
   ]
  },
  {
   "cell_type": "markdown",
   "id": "a83556cc",
   "metadata": {},
   "source": [
    "# 5. \n",
    "In the regex which created from the r&#39;(\\d\\d\\d)-(\\d\\d\\d-\\d\\d\\d\\d)&#39;, what does group zero cover?\n",
    "Group 2? Group 1?"
   ]
  },
  {
   "cell_type": "markdown",
   "id": "aae2a6af",
   "metadata": {},
   "source": [
    "<b>Answers:</b><br>\n",
    "    In the regular expression r'(\\d\\d\\d)-(\\d\\d\\d-\\d\\d\\d\\d)', the group zero (Group 0) covers the entire matched string. Group 0 always represents the entire pattern match.<br>\n",
    "                       <br>\n",
    "    Group 1 (Group 1) covers the first set of three digits surrounded by parentheses (\\d\\d\\d). This group captures the three digits before the hyphen.<br>\n",
    "                        <br>\n",
    "        Group 2 (Group 2) covers the second set of three digits followed by a hyphen and four more digits (\\d\\d\\d-\\d\\d\\d\\d). This group captures the digits after the hyphen.<br>\n",
    "        \n",
    "        Lets see example\n",
    "    "
   ]
  },
  {
   "cell_type": "code",
   "execution_count": 13,
   "id": "fc02fad9",
   "metadata": {},
   "outputs": [
    {
     "name": "stdout",
     "output_type": "stream",
     "text": [
      "Group 0 (Entire Match): 123-456-7890\n",
      "Group 1: 123\n",
      "Group 2: 456-7890\n"
     ]
    }
   ],
   "source": [
    "import re\n",
    "\n",
    "pattern = r'(\\d\\d\\d)-(\\d\\d\\d-\\d\\d\\d\\d)'\n",
    "text = 'Phone number: 123-456-7890'\n",
    "\n",
    "match = re.search(pattern, text)\n",
    "if match:\n",
    "    print('Group 0 (Entire Match):', match.group(0))\n",
    "    print('Group 1:', match.group(1))\n",
    "    print('Group 2:', match.group(2))"
   ]
  },
  {
   "cell_type": "markdown",
   "id": "848fd2e5",
   "metadata": {},
   "source": [
    "# 6.\n",
    "In standard expression syntax, parentheses and intervals have distinct meanings. How can you tell\n",
    "a regex that you want it to fit real parentheses and periods?"
   ]
  },
  {
   "cell_type": "markdown",
   "id": "83e1a2e7",
   "metadata": {},
   "source": [
    "<b>Answers:</b><br>\n",
    "    The `\\.` , `\\(` and `\\)`  escape characters in the raw string passed to re.compile() will match actual parenthesis characters."
   ]
  },
  {
   "cell_type": "code",
   "execution_count": 14,
   "id": "bde6ae61",
   "metadata": {},
   "outputs": [
    {
     "name": "stdout",
     "output_type": "stream",
     "text": [
      "Match found: www.example.com\n"
     ]
    }
   ],
   "source": [
    "import re\n",
    "\n",
    "pattern = r'www\\.example\\.com'\n",
    "text = 'Visit www.example.com for more information.'\n",
    "\n",
    "match = re.search(pattern, text)\n",
    "if match:\n",
    "    print('Match found:', match.group())"
   ]
  },
  {
   "cell_type": "markdown",
   "id": "f0e1b96c",
   "metadata": {},
   "source": [
    "# 7. \n",
    "The findall() method returns a string list or a list of string tuples. What causes it to return one of\n",
    "the two options?"
   ]
  },
  {
   "cell_type": "markdown",
   "id": "bada7bb8",
   "metadata": {},
   "source": [
    "<b>Answers:</b><br>\n",
    "    If the regex pattern has no groups, a list of strings matched is returned. if the regex pattern has groups, a list of tuple of strings is returned."
   ]
  },
  {
   "cell_type": "code",
   "execution_count": 16,
   "id": "1053f40c",
   "metadata": {},
   "outputs": [
    {
     "name": "stdout",
     "output_type": "stream",
     "text": [
      "[('(415)', '555-4242')]\n",
      "['415-555-4242']\n"
     ]
    }
   ],
   "source": [
    "# Example Program\n",
    "import re\n",
    "phoneNumRegex = re.compile(r'(\\(\\d\\d\\d\\)) (\\d\\d\\d-\\d\\d\\d\\d)')\n",
    "mo = phoneNumRegex.findall('My phone number is (415) 555-4242.')\n",
    "print(mo)\n",
    "\n",
    "# Example Program\n",
    "import re\n",
    "phoneNumRegex = re.compile(r'\\d{3}-\\d{3}-\\d{4}')\n",
    "mo = phoneNumRegex.findall('My number is 415-555-4242.')\n",
    "print(mo) # Prints all groups in a tuple format"
   ]
  },
  {
   "cell_type": "markdown",
   "id": "dbbc1ad3",
   "metadata": {},
   "source": [
    "# 8.\n",
    "In standard expressions, what does the | character mean?"
   ]
  },
  {
   "cell_type": "markdown",
   "id": "d64e4b0c",
   "metadata": {},
   "source": [
    "<b>Answers:</b><br>\n",
    "    The | character signifies matching “either, or” between two groups."
   ]
  },
  {
   "cell_type": "markdown",
   "id": "e1d5fb1a",
   "metadata": {},
   "source": [
    "# 9. \n",
    "In regular expressions, what does the character stand for?"
   ]
  },
  {
   "cell_type": "markdown",
   "id": "80142204",
   "metadata": {},
   "source": [
    "<b>Answers:</b><br>\n",
    "    In regular Expressions, ? characters represents zero or one match of the preceeding group."
   ]
  },
  {
   "cell_type": "markdown",
   "id": "1a476f63",
   "metadata": {},
   "source": [
    "# 10.\n",
    "In regular expressions, what is the difference between the + and * characters?"
   ]
  },
  {
   "cell_type": "markdown",
   "id": "ad275d00",
   "metadata": {},
   "source": [
    "<b>Answers:</b><br>\n",
    "     In Regular Expressions, + represents one or more occurances of the preceeding group , whereas* Represents Zero ore more occurances of the preceeding group."
   ]
  },
  {
   "cell_type": "markdown",
   "id": "fa58d964",
   "metadata": {},
   "source": [
    "# 11.\n",
    "What is the difference between {4} and {4,5} in regular expression?"
   ]
  },
  {
   "cell_type": "markdown",
   "id": "c823be7b",
   "metadata": {},
   "source": [
    "<b>Answers:</b><br>\n",
    "    The {4} matches exactly three instances of the preceding group. The {4,5} matches between four and five instances.\n",
    "\n"
   ]
  },
  {
   "cell_type": "markdown",
   "id": "307e871b",
   "metadata": {},
   "source": [
    "# 12.\n",
    "What do you mean by the \\d, \\w, and \\s shorthand character classes signify in regular\n",
    "expressions?"
   ]
  },
  {
   "cell_type": "markdown",
   "id": "ea22dae7",
   "metadata": {},
   "source": [
    "<b>Answers:</b><br>\n",
    "    \\d, \\w and \\s are special sequences in regular expresssions in python:<br>\n",
    "              \n",
    "               1.\\w – Matches a word character equivalent to [a-zA-Z0-9_]\n",
    "               2.\\d – Matches digit character equivalent to [0-9]\n",
    "               3.\\s – Matches whitespace character (space, tab, newline, etc.)\n",
    "               \n",
    "               "
   ]
  },
  {
   "cell_type": "markdown",
   "id": "22877168",
   "metadata": {},
   "source": [
    "# 13.\n",
    "What do means by \\D, \\W, and \\S shorthand character classes signify in regular expressions?"
   ]
  },
  {
   "cell_type": "markdown",
   "id": "11a76597",
   "metadata": {},
   "source": [
    "<b>Answers:</b><br>\n",
    "    \\D, \\W and \\S are special sequences in regular expresssions in python:<br>\n",
    "              \n",
    "               1.\\W – Matches any non-alphanumeric character equivalent to [^a-zA-Z0-9_]\n",
    "               2.\\D – Matches any non-digit character, this is equivalent to the set class [^0-9]\n",
    "               3.\\S – Matches any non-whitespace character"
   ]
  },
  {
   "cell_type": "markdown",
   "id": "bda9796f",
   "metadata": {},
   "source": [
    "# 14. \n",
    "What is the difference between .*? and .*?"
   ]
  },
  {
   "cell_type": "markdown",
   "id": "38cf8c0c",
   "metadata": {},
   "source": [
    "<b>Answers:</b><br>\n",
    "    .* is a Greedy mode, which returns the longest string that meets the condition. Whereas .*? is a non greedy mode which returns the shortest string that meets the condition."
   ]
  },
  {
   "cell_type": "markdown",
   "id": "dceec043",
   "metadata": {},
   "source": [
    "# 15.\n",
    "What is the syntax for matching both numbers and lowercase letters with a character class?"
   ]
  },
  {
   "cell_type": "markdown",
   "id": "a1e51ab3",
   "metadata": {},
   "source": [
    "<b>Answers:</b><br>\n",
    "    Syntax for matching both numbers and lowercase letters with a character class is either [0-9a-z] or [a-z0-9]"
   ]
  },
  {
   "cell_type": "markdown",
   "id": "6bfa64bf",
   "metadata": {},
   "source": [
    "# 16. \n",
    "What is the procedure for making a normal expression in regax case insensitive?"
   ]
  },
  {
   "cell_type": "markdown",
   "id": "cfd52f74",
   "metadata": {},
   "source": [
    "<b>Answers:</b><br>\n",
    "    We can pass re.IGNORECASE as a flag to make a noraml expression case insensitive"
   ]
  },
  {
   "cell_type": "markdown",
   "id": "f3d35e4a",
   "metadata": {},
   "source": [
    "# 17.\n",
    "What does the . character normally match? What does it match if re.DOTALL is passed as 2nd\n",
    "argument in re.compile()?"
   ]
  },
  {
   "cell_type": "markdown",
   "id": "47bf2ce1",
   "metadata": {},
   "source": [
    "<b>Answers:</b><br>\n",
    "    Dot . character matches everything in input except newline character .. By passing re.DOTALL as a flag to re.compile(), you can make the dot character match all characters, including the newline character."
   ]
  },
  {
   "cell_type": "markdown",
   "id": "ae6e913c",
   "metadata": {},
   "source": [
    "# 18.\n",
    "If numReg = re.compile(r&#39;\\d+&#39;), what will numRegex.sub(&#39;X&#39;, &#39;11 drummers, 10 pipers, five rings, 4\n",
    "hen&#39;) return?"
   ]
  },
  {
   "cell_type": "markdown",
   "id": "8274b826",
   "metadata": {},
   "source": [
    "<b>Answers:</b><br>\n",
    "    The Ouput will be 'X drummers, X pipers, five rings, X hen'"
   ]
  },
  {
   "cell_type": "code",
   "execution_count": 19,
   "id": "96bc13c2",
   "metadata": {},
   "outputs": [
    {
     "data": {
      "text/plain": [
       "'X drummers, X pipers, five rings, X hen'"
      ]
     },
     "execution_count": 19,
     "metadata": {},
     "output_type": "execute_result"
    }
   ],
   "source": [
    "import re\n",
    "numReg = re.compile(r'\\d+')\n",
    "numReg.sub('X', '11 drummers, 10 pipers, five rings, 4 hen')"
   ]
  },
  {
   "cell_type": "markdown",
   "id": "d1a41f0f",
   "metadata": {},
   "source": [
    "# 19.\n",
    "What does passing re.VERBOSE as the 2nd argument to re.compile() allow to do?"
   ]
  },
  {
   "cell_type": "markdown",
   "id": "2a1f5470",
   "metadata": {},
   "source": [
    "<b>Answers:</b><br>\n",
    "    re.VERBOSE will allow to add whitespace and comments to string passed to re.compile()."
   ]
  },
  {
   "cell_type": "markdown",
   "id": "06b09ac0",
   "metadata": {},
   "source": [
    "# 20.\n",
    "How would you write a regex that match a number with comma for every three digits? It must<br>\n",
    "match the given following:<br>\n",
    "&#39;42&#39;<br>\n",
    "&#39;1,234&#39;<br>\n",
    "&#39;6,368,745&#39;<br>\n",
    "but not the following:<br>\n",
    "&#39;12,34,567&#39; (which has only two digits between the commas)<br>\n",
    "&#39;1234&#39; (which lacks commas)<br>"
   ]
  },
  {
   "cell_type": "code",
   "execution_count": 23,
   "id": "102d8a3d",
   "metadata": {},
   "outputs": [
    {
     "data": {
      "text/plain": [
       "'42'"
      ]
     },
     "execution_count": 23,
     "metadata": {},
     "output_type": "execute_result"
    }
   ],
   "source": [
    "reg1 = re.compile(r'^\\d{1,3}(,\\d{3})*$')\n",
    "x1 = reg1.search('42')\n",
    "x1.group()"
   ]
  },
  {
   "cell_type": "code",
   "execution_count": 24,
   "id": "db519bf2",
   "metadata": {},
   "outputs": [
    {
     "data": {
      "text/plain": [
       "'1,234'"
      ]
     },
     "execution_count": 24,
     "metadata": {},
     "output_type": "execute_result"
    }
   ],
   "source": [
    "reg1 = re.compile(r'^\\d{1,3}(,\\d{3})*$')\n",
    "x1 = reg1.search('1,234')\n",
    "x1.group()"
   ]
  },
  {
   "cell_type": "code",
   "execution_count": 25,
   "id": "c77601ff",
   "metadata": {},
   "outputs": [
    {
     "data": {
      "text/plain": [
       "'6,368,745'"
      ]
     },
     "execution_count": 25,
     "metadata": {},
     "output_type": "execute_result"
    }
   ],
   "source": [
    "reg1 = re.compile(r'^\\d{1,3}(,\\d{3})*$')\n",
    "x1 = reg1.search('6,368,745')\n",
    "x1.group()"
   ]
  },
  {
   "cell_type": "markdown",
   "id": "c41fa1a5",
   "metadata": {},
   "source": [
    "# 21. \n",
    "How would you write a regex that matches the full name of someone whose last name is<br>\n",
    "Watanabe? You can assume that the first name that comes before it will always be one word that<br>\n",
    "begins with a capital letter. The regex must match the following:<br>\n",
    "&#39;Haruto Watanabe&#39;<br>\n",
    "&#39;Alice Watanabe&#39;<br>\n",
    "&#39;RoboCop Watanabe&#39;<br>\n",
    "but not the following:<br>\n",
    "&#39;haruto Watanabe&#39; (where the first name is not capitalized)<br>\n",
    "&#39;Mr. Watanabe&#39; (where the preceding word has a nonletter character)<br>\n",
    "&#39;Watanabe&#39; (which has no first name)<br>\n",
    "&#39;Haruto watanabe&#39; (where Watanabe is not capitalized)<br>"
   ]
  },
  {
   "cell_type": "markdown",
   "id": "1c201cf4",
   "metadata": {},
   "source": [
    "<b>Answers:</b><br>\n",
    "    pattern = r'[A-Z]{1}[a-z]*\\sWatanabe'"
   ]
  },
  {
   "cell_type": "code",
   "execution_count": 31,
   "id": "be1a7265",
   "metadata": {},
   "outputs": [
    {
     "name": "stdout",
     "output_type": "stream",
     "text": [
      "Output:  Haruto Watanabe <re.Match object; span=(0, 15), match='Haruto Watanabe'>\n",
      "Output:  Alice Watanabe <re.Match object; span=(0, 14), match='Alice Watanabe'>\n",
      "Output:  RoboCop Watanabe <re.Match object; span=(4, 16), match='Cop Watanabe'>\n",
      "Output:  haruto Watanabe None\n",
      "Output:  Mr. Watanabe None\n",
      "Output:  Watanabe None\n",
      "Output:  Haruto watanabe None\n"
     ]
    }
   ],
   "source": [
    "import re\n",
    "pattern = r'[A-Z]{1}[a-z]*\\sWatanabe'\n",
    "namex = re.compile(pattern)\n",
    "for name in ['Haruto Watanabe','Alice Watanabe','RoboCop Watanabe','haruto Watanabe','Mr. Watanabe','Watanabe','Haruto watanabe']:\n",
    "    print('Output: ',name,namex.search(name))"
   ]
  },
  {
   "cell_type": "markdown",
   "id": "6b78b8d4",
   "metadata": {},
   "source": [
    "# 22.\n",
    "How would you write a regex that matches a sentence where the first word is either Alice, Bob,<br>\n",
    "or Carol; the second word is either eats, pets, or throws; the third word is apples, cats, or baseballs;<br>\n",
    "and the sentence ends with a period? This regex should be case-insensitive. It must match the<br>\n",
    "following:<br>\n",
    "&#39;Alice eats apples.&#39;<br>\n",
    "&#39;Bob pets cats.&#39;<br>\n",
    "&#39;Carol throws baseballs.&#39;<br>\n",
    "&#39;Alice throws Apples.&#39;<br>\n",
    "&#39;BOB EATS CATS.&#39;<br>\n",
    "but not the following:<br>\n",
    "&#39;RoboCop eats apples.&#39;<br>\n",
    "&#39;ALICE THROWS FOOTBALLS.&#39;<br>\n",
    "&#39;Carol eats 7 cats.&#39;<br>"
   ]
  },
  {
   "cell_type": "markdown",
   "id": "2c1d0fec",
   "metadata": {},
   "source": [
    "<b>Answers:</b><br>\n",
    "    pattern = r'(Alice|Bob|Carol)\\s(eats|pets|throws)\\s(apples|cats|baseballs)\\.'"
   ]
  },
  {
   "cell_type": "code",
   "execution_count": 33,
   "id": "81e0bc83",
   "metadata": {},
   "outputs": [
    {
     "name": "stdout",
     "output_type": "stream",
     "text": [
      "Output:  Alice eats apples. -------------- <re.Match object; span=(0, 18), match='Alice eats apples.'>\n",
      "Output:  Bob pets cats. -------------- <re.Match object; span=(0, 14), match='Bob pets cats.'>\n",
      "Output:  Carol throws baseballs. -------------- <re.Match object; span=(0, 23), match='Carol throws baseballs.'>\n",
      "Output:  Alice throws Apples. -------------- <re.Match object; span=(0, 20), match='Alice throws Apples.'>\n",
      "Output:  BOB EATS CATS. -------------- <re.Match object; span=(0, 14), match='BOB EATS CATS.'>\n",
      "Output:  RoboCop eats apples. -------------- None\n",
      "Output:  ALICE THROWS FOOTBALLS. -------------- None\n",
      "Output:  Carol eats 7 cats. -------------- None\n"
     ]
    }
   ],
   "source": [
    "import re\n",
    "pattern = r'(Alice|Bob|Carol)\\s(eats|pets|throws)\\s(apples|cats|baseballs)\\.'\n",
    "casex = re.compile(pattern,re.IGNORECASE)\n",
    "for word in ['Alice eats apples.','Bob pets cats.','Carol throws baseballs.','Alice throws Apples.','BOB EATS CATS.','RoboCop eats apples.'\n",
    ",'ALICE THROWS FOOTBALLS.','Carol eats 7 cats.']:\n",
    "    print('Output: ',word,'--------------',casex.search(word))"
   ]
  },
  {
   "cell_type": "code",
   "execution_count": null,
   "id": "3cbf8f33",
   "metadata": {},
   "outputs": [],
   "source": []
  }
 ],
 "metadata": {
  "kernelspec": {
   "display_name": "Python 3 (ipykernel)",
   "language": "python",
   "name": "python3"
  },
  "language_info": {
   "codemirror_mode": {
    "name": "ipython",
    "version": 3
   },
   "file_extension": ".py",
   "mimetype": "text/x-python",
   "name": "python",
   "nbconvert_exporter": "python",
   "pygments_lexer": "ipython3",
   "version": "3.9.12"
  }
 },
 "nbformat": 4,
 "nbformat_minor": 5
}
