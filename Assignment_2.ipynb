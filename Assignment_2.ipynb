{
 "cells": [
  {
   "cell_type": "markdown",
   "id": "1f69de54",
   "metadata": {},
   "source": [
    "# 1.\n",
    "What are the two values of the Boolean data type? How do you write them?"
   ]
  },
  {
   "cell_type": "markdown",
   "id": "e6d135ec",
   "metadata": {},
   "source": [
    "<b>Answer :</b><br>\n",
    "       True and False are two values of the boolen data types. <br>\n",
    "       We have to use capital T and F and with the rest of the word in lowercase <br>\n",
    "    \n",
    "    "
   ]
  },
  {
   "cell_type": "code",
   "execution_count": 20,
   "id": "d4de61e8",
   "metadata": {},
   "outputs": [
    {
     "name": "stdout",
     "output_type": "stream",
     "text": [
      "True <class 'bool'>\n",
      "False <class 'bool'>\n"
     ]
    }
   ],
   "source": [
    "# example\n",
    "a=True\n",
    "b=False\n",
    "print(a,type(a))\n",
    "print(b,type(b))"
   ]
  },
  {
   "cell_type": "markdown",
   "id": "5a12cf67",
   "metadata": {},
   "source": [
    "# 2. \n",
    "What are the three different types of Boolean operators?"
   ]
  },
  {
   "cell_type": "markdown",
   "id": "b9b17395",
   "metadata": {},
   "source": [
    "<b>Answer : ,</b><br>\n",
    "The three differnt types of Boolean operators in python are : and , or , not <br>\n",
    " and ----- The expression return True if both x and y are true, else it returns False<br>\n",
    " or ------The expression return True if at least one of x or y is True<br>\n",
    " not------The expression returns True if the condition of x is False.<br>"
   ]
  },
  {
   "cell_type": "code",
   "execution_count": 21,
   "id": "1ad19dee",
   "metadata": {},
   "outputs": [
    {
     "name": "stdout",
     "output_type": "stream",
     "text": [
      "True\n",
      "True\n",
      "False\n"
     ]
    }
   ],
   "source": [
    "a=100\n",
    "b=200\n",
    "print(a>50 and b>100) # Example of boolean and\n",
    "print(a>200 or b>100) # Example of boolean or\n",
    "print(not(a>10)) # Example of boolean not"
   ]
  },
  {
   "cell_type": "markdown",
   "id": "21e6daf1",
   "metadata": {},
   "source": [
    "# 3.\n",
    "Make a list of each Boolean operator&#39;s truth tables (i.e. every possible combination of Boolean\n",
    "values for the operator and what it evaluate )."
   ]
  },
  {
   "cell_type": "markdown",
   "id": "e5bfd878",
   "metadata": {},
   "source": [
    "<b>Answers : </b>\n",
    "<b>The Truth tables for the boolean tables are as follows:<br></b>\n",
    "<br>\n",
    "<b>Truth Table for and operaotor:<br></b>\n",
    "True and True is True<br>\n",
    "True and False is False<br>\n",
    "False and True is False<br>\n",
    "False and False is False<br>\n",
    "<br>\n",
    "<b>Truth Table for or operaotor:<br></b>\n",
    "True or True is True<br>\n",
    "True or False is True<br>\n",
    "False or True is True<br>\n",
    "False or False is False<br>\n",
    "<br>\n",
    "<b>Truth Table for not operaotor:<br></b>\n",
    "True not is False <br>\n",
    "False not is True<br>"
   ]
  },
  {
   "cell_type": "markdown",
   "id": "7d5c45f9",
   "metadata": {},
   "source": [
    "# 4.\n",
    "What are the values of the following expressions?<br>\n",
    "<br>\n",
    "(5 > 4) and (3 == 5)<br>\n",
    "not (5 > 4)<br>\n",
    "(5> 4) or (3 == 5)<br>\n",
    "not ((5 > 4) or (3 == 5))<br>\n",
    "(True and True) and (True == False)<br>\n",
    "(not False) or (not True)<br>"
   ]
  },
  {
   "cell_type": "code",
   "execution_count": 30,
   "id": "5b275e03",
   "metadata": {},
   "outputs": [
    {
     "name": "stdout",
     "output_type": "stream",
     "text": [
      "False\n",
      "False\n",
      "True\n",
      "False\n",
      "False\n",
      "True\n"
     ]
    }
   ],
   "source": [
    "#ANSWERS\n",
    "print((5>4)and(3==5)) # ---False\n",
    "print(not(5>4)) #--------- False\n",
    "print((5>4)or(3==5)) # ----True\n",
    "print(not((5>4)or(3==5)))# False\n",
    "print((True and True)and(True==False)) #--- False\n",
    "print((not False)or(not True)) #---True"
   ]
  },
  {
   "cell_type": "markdown",
   "id": "06f7f4d6",
   "metadata": {},
   "source": [
    "# 5. \n",
    "What are the six comparison operators?"
   ]
  },
  {
   "cell_type": "markdown",
   "id": "a4d92ce6",
   "metadata": {},
   "source": [
    "<b>Answers: </b><br>\n",
    "The Six comparision operators available in python are:  == , != , < , > , <= , =>         "
   ]
  },
  {
   "cell_type": "markdown",
   "id": "453c2648",
   "metadata": {},
   "source": [
    "# 6.\n",
    "How do you tell the difference between the equal to and assignment operators?Describe a\n",
    "condition and when you would use one."
   ]
  },
  {
   "cell_type": "markdown",
   "id": "01dd326d",
   "metadata": {},
   "source": [
    "<b>Answers :</b> <br>\n",
    "== is the equal to operator that compares two values and evaluates to a Boolean, while = is that assignment operator that stores a value in a variable."
   ]
  },
  {
   "cell_type": "code",
   "execution_count": 31,
   "id": "2e080e29",
   "metadata": {},
   "outputs": [
    {
     "name": "stdout",
     "output_type": "stream",
     "text": [
      "this is the value of a by assigning operator 98\n"
     ]
    },
    {
     "data": {
      "text/plain": [
       "False"
      ]
     },
     "execution_count": 31,
     "metadata": {},
     "output_type": "execute_result"
    }
   ],
   "source": [
    "a =98 # Assigning operator that stores 3 value in a variable a\n",
    "print(\"this is the value of a by assigning operator\" , a)\n",
    "a==77#comparing values of a varible value and 3\n",
    "      #you can see one is used as a variable assigning and other is used a s comparison"
   ]
  },
  {
   "cell_type": "markdown",
   "id": "96cba205",
   "metadata": {},
   "source": [
    "# 7.\n",
    "Identify the three blocks in this code:<br>\n",
    "spam = 0 <br>\n",
    "if spam == 10:<br>\n",
    "if spam > 5:<br>\n",
    "print('bacon3')<br>\n",
    "else:<br>\n",
    "print('ham')<br>\n",
    "print('spam')<br>\n",
    "print('spam')<br>"
   ]
  },
  {
   "cell_type": "markdown",
   "id": "9c7cfd59",
   "metadata": {},
   "source": [
    "<b>Answers : </b>\n",
    "    In Python, code block refers to a collection of code that is in the same block or indent. <br>\n",
    "    This is most commonly found in classes, functions, and loops."
   ]
  },
  {
   "cell_type": "code",
   "execution_count": 32,
   "id": "d04b0512",
   "metadata": {},
   "outputs": [
    {
     "name": "stdout",
     "output_type": "stream",
     "text": [
      "ham\n",
      "spam\n",
      "spam\n"
     ]
    }
   ],
   "source": [
    "spam = 0  \n",
    "if spam == 10:  \n",
    "    print('eggs')  # block #1\n",
    "if spam > 5:  \n",
    "    print('bacon')  # block #2\n",
    "else:  \n",
    "    print('ham')  # block #3\n",
    "    print('spam')  \n",
    "    print('spam')"
   ]
  },
  {
   "cell_type": "markdown",
   "id": "f3a19a2c",
   "metadata": {},
   "source": [
    "# 8.\n",
    "Write code that prints Hello if 1 is stored in spam, prints Howdy if 2 is stored in spam, and prints\n",
    "Greetings! if anything else is stored in spam."
   ]
  },
  {
   "cell_type": "code",
   "execution_count": 33,
   "id": "7d9043ae",
   "metadata": {},
   "outputs": [
    {
     "name": "stdout",
     "output_type": "stream",
     "text": [
      "Hello\n",
      "Howdy\n",
      "Greetings\n"
     ]
    }
   ],
   "source": [
    "def SpamCode(spam):\n",
    "    if spam==1:\n",
    "        print('Hello')\n",
    "    elif spam==2:\n",
    "        print('Howdy')\n",
    "    else:\n",
    "        print('Greetings')\n",
    "        \n",
    "SpamCode(1) \n",
    "SpamCode(2)\n",
    "SpamCode(3)"
   ]
  },
  {
   "cell_type": "markdown",
   "id": "0ef83c44",
   "metadata": {},
   "source": [
    "# 9.\n",
    "If your programme is stuck in an endless loop, what keys you’ll press?"
   ]
  },
  {
   "cell_type": "markdown",
   "id": "8ed4a57a",
   "metadata": {},
   "source": [
    "<b>Answers: </b>Press Ctrl-c to stop a program stuck in an infinite loop\n",
    "    "
   ]
  },
  {
   "cell_type": "markdown",
   "id": "557f507d",
   "metadata": {},
   "source": [
    "# 10.\n",
    "How can you tell the difference between break and continue?"
   ]
  },
  {
   "cell_type": "markdown",
   "id": "625fb545",
   "metadata": {},
   "source": [
    "<B>Answers:</b>\n",
    "     The break statement will move the execution outside the loop if break condtion is satisfied.<br>\n",
    "     The break statement is commonly used to exit a loop prematurely based on a specific condition or event.<br>\n",
    "     Whereas the continue statement will move the execution to the start of the loop.<br>\n",
    "     The continue statement is used to bypass certain iterations based on a specific condition or event without terminating the entire loop.<br>"
   ]
  },
  {
   "cell_type": "code",
   "execution_count": 34,
   "id": "18896ac2",
   "metadata": {},
   "outputs": [
    {
     "name": "stdout",
     "output_type": "stream",
     "text": [
      "0\n",
      "1\n",
      "2\n"
     ]
    }
   ],
   "source": [
    "#break ---- you can see as soon as condition are satisfied it moves outside the loop\n",
    "for i in range(5):\n",
    "    if i == 3:\n",
    "        break \n",
    "    print(i)"
   ]
  },
  {
   "cell_type": "code",
   "execution_count": 35,
   "id": "2e6a1238",
   "metadata": {},
   "outputs": [
    {
     "name": "stdout",
     "output_type": "stream",
     "text": [
      "0\n",
      "1\n",
      "3\n",
      "4\n"
     ]
    }
   ],
   "source": [
    "#continue  ------as soon as condition is satisfied it skips furter internal condition and start iterating again in same loop\n",
    "for i in range(5):\n",
    "    if i == 2:\n",
    "        continue\n",
    "    print(i)"
   ]
  },
  {
   "cell_type": "markdown",
   "id": "72e5dad3",
   "metadata": {},
   "source": [
    "# 11.\n",
    "In a for loop, what is the difference between range(10), range(0, 10), and range(0, 10, 1)?"
   ]
  },
  {
   "cell_type": "markdown",
   "id": "e76e065c",
   "metadata": {},
   "source": [
    "<b>Answers:</b>\n",
    "   1. The range(10) call range from 0 to 9 but it will not include 10<br>\n",
    "   2. The range (0,10) explicitly tells the loop to start from 0<br>\n",
    "   3. The range(0,10,1) explicitly tells the loop to increase the variable by 1 on each iteration<br>"
   ]
  },
  {
   "cell_type": "markdown",
   "id": "21fdb37f",
   "metadata": {},
   "source": [
    "# 12.\n",
    "Write a short program that prints the numbers 1 to 10 using a for loop. Then write an equivalent\n",
    "program that prints the numbers 1 to 10 using a while loop."
   ]
  },
  {
   "cell_type": "code",
   "execution_count": 36,
   "id": "cad0bcbc",
   "metadata": {},
   "outputs": [
    {
     "name": "stdout",
     "output_type": "stream",
     "text": [
      "Using For Loop\n",
      "1 2 3 4 5 6 7 8 9 10 \n",
      "\n",
      "Using While Loop\n",
      "1 2 3 4 5 6 7 8 9 10 "
     ]
    }
   ],
   "source": [
    "print('Using For Loop')\n",
    "for i in range(1,11):\n",
    "    print(i, end=\" \")\n",
    "print('\\n')\n",
    "print('Using While Loop') \n",
    "i=1\n",
    "while i<=10:\n",
    "    print(i, end=\" \")\n",
    "    i+=1"
   ]
  },
  {
   "cell_type": "markdown",
   "id": "ad394c4f",
   "metadata": {},
   "source": [
    "\n",
    "\n",
    "# 13. \n",
    "If you had a function named bacon() inside a module named spam, how would you call it after\n",
    "importing spam?"
   ]
  },
  {
   "cell_type": "markdown",
   "id": "852f7fa1",
   "metadata": {},
   "source": [
    "<b>Answers:</b>We can call it by spam.bacon()"
   ]
  },
  {
   "cell_type": "code",
   "execution_count": null,
   "id": "6c6d8699",
   "metadata": {},
   "outputs": [],
   "source": []
  }
 ],
 "metadata": {
  "kernelspec": {
   "display_name": "Python 3 (ipykernel)",
   "language": "python",
   "name": "python3"
  },
  "language_info": {
   "codemirror_mode": {
    "name": "ipython",
    "version": 3
   },
   "file_extension": ".py",
   "mimetype": "text/x-python",
   "name": "python",
   "nbconvert_exporter": "python",
   "pygments_lexer": "ipython3",
   "version": "3.9.12"
  }
 },
 "nbformat": 4,
 "nbformat_minor": 5
}
