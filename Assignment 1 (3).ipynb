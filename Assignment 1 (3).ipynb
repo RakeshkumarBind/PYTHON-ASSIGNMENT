{
 "cells": [
  {
   "cell_type": "markdown",
   "id": "28432aad",
   "metadata": {},
   "source": [
    "# 1.\n",
    "In the below elements which of them are values or an expression? eg:- values can be\n",
    "integer or string and expressions will be mathematical operators.\n",
    "*\n",
    "'hello'\n",
    "-87.8\n",
    "-\n",
    "/\n",
    "+\n",
    "6"
   ]
  },
  {
   "cell_type": "markdown",
   "id": "e3c6e7cc",
   "metadata": {},
   "source": [
    "Expression are : <br>\n",
    "    * (multiplication) <br>\n",
    "    - (substraction)/n\n",
    "    / (division)/n\n",
    "    + (addition)/n\n",
    "    \n",
    "values are :/n\n",
    "    'hello' (string value)/n\n",
    "    -87.8 (floating-point value)/n\n",
    "    6 (integer value)/n"
   ]
  },
  {
   "cell_type": "markdown",
   "id": "7e7aec24",
   "metadata": {},
   "source": [
    "# 2.\n",
    "What is the difference between string and variable?"
   ]
  },
  {
   "cell_type": "markdown",
   "id": "6628cfb6",
   "metadata": {},
   "source": [
    "A string is a specific type of datatype which is used to represent a sequence of character or textual data./n\n",
    "It is enclosed with single quote and double quote ''  , \" \"/n\n",
    "While Variables is a kind of entity which store the value or data which you process in runtime./n\n",
    "A variable can be assigned a string value or any other type of data, and it provides a way to refer to and/n\n",
    "manipulate that data within a program./n"
   ]
  },
  {
   "cell_type": "code",
   "execution_count": 1,
   "id": "792b0c22",
   "metadata": {},
   "outputs": [],
   "source": [
    "a=\"hello this is a string\""
   ]
  },
  {
   "cell_type": "markdown",
   "id": "a651b4ea",
   "metadata": {},
   "source": [
    "In above line you can see a is a variable which stores the string enclosed within double quote"
   ]
  },
  {
   "cell_type": "markdown",
   "id": "b82fd49b",
   "metadata": {},
   "source": [
    "# 3. \n",
    "Describe three different data types."
   ]
  },
  {
   "cell_type": "markdown",
   "id": "c6a2332f",
   "metadata": {},
   "source": [
    "Three fundamental Datatypes in python are `int`, `float`, `complex`./n\n",
    "    int datatype : We can use int data type to represent whole numbers (integral values)/n\n",
    "    float datatype : We can use float data type to represent floating point values (decimal values)/n\n",
    "    complex datatype : Complex number is represented by complex class. It is specified as (real part) + (imaginary part)j/n"
   ]
  },
  {
   "cell_type": "markdown",
   "id": "ffc2e61b",
   "metadata": {},
   "source": [
    "# 4. \n",
    "What is an expression made up of? What do all expressions do?"
   ]
  },
  {
   "cell_type": "markdown",
   "id": "a4e9de2b",
   "metadata": {},
   "source": [
    "An expression is a combination of values, variables, operators, and calls to functions.\n",
    "Expressions need to be evaluated. \n",
    "If we ask Python to print an expression, the interpreter evaluates the expression and displays the result.\n",
    "\n",
    "different types of expression and what they do are\n",
    "1. Constant Expressions : A constant expression in Python that contains only constant values is known as a constant expression.\n",
    "                          In a constant expression in Python, the operator(s) is a constant. \n",
    "                          A constant is a value that cannot be changed after its initialization.\n"
   ]
  },
  {
   "cell_type": "code",
   "execution_count": 3,
   "id": "5fe0fef8",
   "metadata": {},
   "outputs": [
    {
     "name": "stdout",
     "output_type": "stream",
     "text": [
      "The value of x is:  25\n"
     ]
    }
   ],
   "source": [
    "#constant expression\n",
    "x = 10 + 15\n",
    "\n",
    "# Here both 10 and 15 are constants but x is a variable.\n",
    "print(\"The value of x is: \", x)\n"
   ]
  },
  {
   "cell_type": "markdown",
   "id": "931b3cee",
   "metadata": {},
   "source": [
    "2.  Arithmetic Expressions :An expression in Python that contains a combination of operators, operands, \n",
    "                            and sometimes parenthesis is known as an arithmetic expression. \n",
    "                            The result of an arithmetic expression is also a numeric value just like the constant expression."
   ]
  },
  {
   "cell_type": "code",
   "execution_count": 4,
   "id": "dad0b1dc",
   "metadata": {},
   "outputs": [
    {
     "name": "stdout",
     "output_type": "stream",
     "text": [
      "The sum of x and y is:  13\n"
     ]
    }
   ],
   "source": [
    "#arithmetic expression \n",
    "a=5\n",
    "b=8\n",
    "\n",
    "addition=a+b\n",
    "print(\"The sum of x and y is: \", addition)"
   ]
  },
  {
   "cell_type": "markdown",
   "id": "79c4c4b1",
   "metadata": {},
   "source": [
    "3. Integral Expressions : An integral expression in Python is used for computations and\n",
    "                          type conversion (integer to float, a string to integer, etc.).\n",
    "                          An integral expression always produces an integer value as a resultant."
   ]
  },
  {
   "cell_type": "code",
   "execution_count": 5,
   "id": "5d1fcc1b",
   "metadata": {},
   "outputs": [
    {
     "name": "stdout",
     "output_type": "stream",
     "text": [
      "The sum of x and y is:  15\n"
     ]
    }
   ],
   "source": [
    "#Integral Expressions \n",
    "x = 10      # an integer number\n",
    "y = 5.0     # a floating point number\n",
    "\n",
    "# we need to convert the floating-point number into an integer or vice versa for summation.\n",
    "result = x + int(y)\n",
    "\n",
    "print(\"The sum of x and y is: \", result)"
   ]
  },
  {
   "cell_type": "markdown",
   "id": "317ed95a",
   "metadata": {},
   "source": [
    "4. Floating Expressions: A floating expression in Python is used for computations and \n",
    "                         type conversion (integer to float, a string to integer, etc.). \n",
    "                         A floating expression always produces a floating-point number as a resultant."
   ]
  },
  {
   "cell_type": "code",
   "execution_count": 6,
   "id": "03e48e0f",
   "metadata": {},
   "outputs": [
    {
     "name": "stdout",
     "output_type": "stream",
     "text": [
      "The sum of x and y is:  15.0\n"
     ]
    }
   ],
   "source": [
    "#Floating Expressions\n",
    "x = 10      # an integer number\n",
    "y = 5.0     # a floating point number\n",
    "\n",
    "# we need to convert the integer number into a floating-point number or vice versa for summation.\n",
    "result = float(x) + y\n",
    "\n",
    "print(\"The sum of x and y is: \", result)"
   ]
  },
  {
   "cell_type": "markdown",
   "id": "22e6061e",
   "metadata": {},
   "source": [
    "5. Relational Expressions: A relational expression in Python can be considered as a combination of two or more \n",
    "                           arithmetic expressions joined using relational operators. \n",
    "                           The overall expression results in either True or False (boolean result).\n",
    "                           A relational operator produces a boolean result so they are also known as Boolean Expressions."
   ]
  },
  {
   "cell_type": "code",
   "execution_count": 8,
   "id": "dd9385c0",
   "metadata": {},
   "outputs": [
    {
     "name": "stdout",
     "output_type": "stream",
     "text": [
      "The result of the expression is:  False\n"
     ]
    }
   ],
   "source": [
    "# Relational Expressions\n",
    "a = 25\n",
    "b = 14\n",
    "c = 48\n",
    "d = 45\n",
    "\n",
    "# The expression checks if the sum of (a and b) is the same as the difference of (c and d).\n",
    "result = (a + b) == (c - d)\n",
    "print(\"The result of the expression is: \", result)"
   ]
  },
  {
   "cell_type": "markdown",
   "id": "4ca63455",
   "metadata": {},
   "source": [
    "6. Logical Expressions: A logical expression performs the logical computation, and the overall expression results in either True or False.\n",
    "                        We have three types of logical expressions in Python.\n",
    "        \n",
    "        AND ----- The expression return True if both x and y are true, else it returns False\n",
    "        OR ------The expression return True if at least one of x or y is True\n",
    "        NOT------The expression returns True if the condition of x is False.\n"
   ]
  },
  {
   "cell_type": "markdown",
   "id": "1dc64979",
   "metadata": {},
   "source": [
    "7. Combinational Expressions: A combination expression can contain a single or multiple expressions."
   ]
  },
  {
   "cell_type": "code",
   "execution_count": 9,
   "id": "532136dd",
   "metadata": {},
   "outputs": [
    {
     "name": "stdout",
     "output_type": "stream",
     "text": [
      "Result obtained :  95\n"
     ]
    }
   ],
   "source": [
    "#  Combinational Expressions\n",
    "x = 25\n",
    "y = 35\n",
    "\n",
    "result = x + (y << 1)\n",
    "\n",
    "print(\"Result obtained : \", result)"
   ]
  },
  {
   "cell_type": "markdown",
   "id": "362a1aa4",
   "metadata": {},
   "source": [
    "# 5. \n",
    "This assignment statements, like spam = 10. What is the difference between an\n",
    "expression and a statement?"
   ]
  },
  {
   "cell_type": "markdown",
   "id": "5240ce08",
   "metadata": {},
   "source": [
    "spam=10 is a statement\n",
    "\n",
    "1.A statement in Python is used for creating variables or for displaying values.\n",
    "  While expression in Python produces some value or result after being interpreted by the Python interpreter.\n",
    "    \n",
    "2.A statement in Python is not evaluated for some results.\n",
    "  Whiule expression is evaluated for some results.\n",
    "    \n",
    "3. A statement can be an expression\n",
    "   but expression is not a statement\n",
    "     exampkle x=3 is a statement like spam=10\n",
    "        \n",
    "     But x=3+6 is an expression as it is going to execute and give the result "
   ]
  },
  {
   "cell_type": "markdown",
   "id": "2a3f7f84",
   "metadata": {},
   "source": [
    "# 6.\n",
    "After running the following code, what does the variable bacon contain?\n",
    "bacon = 22\n",
    "bacon + 1"
   ]
  },
  {
   "cell_type": "code",
   "execution_count": 17,
   "id": "03e32f10",
   "metadata": {},
   "outputs": [],
   "source": [
    "#It is going to give 23"
   ]
  },
  {
   "cell_type": "markdown",
   "id": "b92949fa",
   "metadata": {},
   "source": [
    "# 7.\n",
    "What should the values of the following two terms be?\n",
    "'spam' + 'spamspam'\n",
    "'spam' * 3"
   ]
  },
  {
   "cell_type": "markdown",
   "id": "696d8c0b",
   "metadata": {},
   "source": [
    "'spam' + 'spamspam' --(STRING CONCATENATION)--will give spamspamspam ;\n",
    "'spam' * 3 --(STRING MULTIPLICATION)-- will give spamspamspam"
   ]
  },
  {
   "cell_type": "markdown",
   "id": "ff2b9a63",
   "metadata": {},
   "source": [
    "# 8.\n",
    "Why is eggs a valid variable name while 100 is invalid?"
   ]
  },
  {
   "cell_type": "markdown",
   "id": "703d49eb",
   "metadata": {},
   "source": [
    "As per python,Variable names cannot begin with a number. The python rules for naming a variable are :-\n",
    "\n",
    "1.Variable name must start with a letter or the underscore character.\n",
    "2.Variable name cannot start with a number.\n",
    "3.Variable name can only contain alpha-numeric characters and underscores (A-z, 0-9, & _ ).\n",
    "4.Variable names are case-sensitive (name, INEURON and ineuron are three different variables).\n",
    "5.The reserved words(keywords) cannot be used naming the variable.\n",
    "\n",
    "100 is starting with a number so it cannot be a variable"
   ]
  },
  {
   "cell_type": "markdown",
   "id": "9998edb5",
   "metadata": {},
   "source": [
    "# 9.\n",
    "What three functions can be used to get the integer, floating-point number, or string\n",
    "version of a value?"
   ]
  },
  {
   "cell_type": "markdown",
   "id": "9602dc66",
   "metadata": {},
   "source": [
    "The int(),float(),and str() functions will evaluate to the integer,floating-point number,string version of the value passed to them."
   ]
  },
  {
   "cell_type": "code",
   "execution_count": 18,
   "id": "f997e160",
   "metadata": {},
   "outputs": [
    {
     "name": "stdout",
     "output_type": "stream",
     "text": [
      "int(10.0) ->  10\n",
      "float(10) ->  10.0\n",
      "str(10) ->  10\n"
     ]
    }
   ],
   "source": [
    "print('int(10.0) -> ',int(10.0)) # int() function converts given input to int\n",
    "print('float(10) -> ',float(10)) # float() function converts given input to float\n",
    "print('str(10) -> ',str(10)) # str() function converts given input to string"
   ]
  },
  {
   "cell_type": "markdown",
   "id": "a46a66c0",
   "metadata": {},
   "source": [
    "# 10.\n",
    "Why does this expression cause an error? How can you fix it?\n",
    "'I have eaten' + 99 +'burritos'"
   ]
  },
  {
   "cell_type": "markdown",
   "id": "4f5f5336",
   "metadata": {},
   "source": [
    "the cause of error is because you are trying to concatenate string with integer which is not allowed.\n",
    "To fix it you have to do typecasting operation on 99 to make it a string than you can perform string concatenation.\n",
    "This is how you have to do :\n",
    "Input: 'I have eaten ' + str(99) + 'burritos.'\n",
    "Output: 'I have eaten 99 burritos.'"
   ]
  },
  {
   "cell_type": "code",
   "execution_count": 20,
   "id": "23d9ea86",
   "metadata": {},
   "outputs": [
    {
     "data": {
      "text/plain": [
       "'I have eaten 99 burritos.'"
      ]
     },
     "execution_count": 20,
     "metadata": {},
     "output_type": "execute_result"
    }
   ],
   "source": [
    "'I have eaten ' + str(99) + ' burritos.'"
   ]
  },
  {
   "cell_type": "code",
   "execution_count": null,
   "id": "0e22792d",
   "metadata": {},
   "outputs": [],
   "source": []
  }
 ],
 "metadata": {
  "kernelspec": {
   "display_name": "Python 3 (ipykernel)",
   "language": "python",
   "name": "python3"
  },
  "language_info": {
   "codemirror_mode": {
    "name": "ipython",
    "version": 3
   },
   "file_extension": ".py",
   "mimetype": "text/x-python",
   "name": "python",
   "nbconvert_exporter": "python",
   "pygments_lexer": "ipython3",
   "version": "3.9.12"
  }
 },
 "nbformat": 4,
 "nbformat_minor": 5
}
