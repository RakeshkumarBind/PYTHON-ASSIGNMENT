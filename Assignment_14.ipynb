{
 "cells": [
  {
   "cell_type": "markdown",
   "id": "e9755c19",
   "metadata": {},
   "source": [
    "# 1.\n",
    "What does RGBA stand for?"
   ]
  },
  {
   "cell_type": "markdown",
   "id": "630c1e2d",
   "metadata": {},
   "source": [
    "<b>Answers:</b><br>\n",
    "RGBA is a four-channel format containing data for Red, Green, Blue, and an Alpha value. Where Alpha Represents the Opacity<br>\n",
    "It is a 4 integers, each ranging from 0 to 255. The four integers correspond \n",
    "to the amount of red, green, blue, and alpha (transparency) in the color "
   ]
  },
  {
   "cell_type": "markdown",
   "id": "38b0e4ff",
   "metadata": {},
   "source": [
    "# 2. \n",
    "From the Pillow module, how do you get the RGBA value of any images?"
   ]
  },
  {
   "cell_type": "markdown",
   "id": "fe85aa15",
   "metadata": {},
   "source": [
    "<b>Answers:</b><br>\n",
    "ImageColor.getcolor() gives rgba value of any image"
   ]
  },
  {
   "cell_type": "markdown",
   "id": "79ca2a0d",
   "metadata": {},
   "source": [
    "# 3.\n",
    "What is a box tuple, and how does it work?"
   ]
  },
  {
   "cell_type": "markdown",
   "id": "c4624459",
   "metadata": {},
   "source": [
    "<b>Answers:</b><br>\n",
    "    A box tuple is a tuple value of four integers: the left edge x-coordinate, the top edge y-coordinate, the width, and the height, respectively"
   ]
  },
  {
   "cell_type": "markdown",
   "id": "a156ef93",
   "metadata": {},
   "source": [
    "# 4.\n",
    "Use your image and load in notebook then, How can you find out the width and height of an\n",
    "Image object?jai-shree-ram-hd-hanuman-ebq48hig2eimhppf.jpg"
   ]
  },
  {
   "cell_type": "code",
   "execution_count": 11,
   "id": "84872ebe",
   "metadata": {},
   "outputs": [
    {
     "name": "stdout",
     "output_type": "stream",
     "text": [
      "Width, Height -> (1080, 1921)\n",
      "Width, Height -> 1080,1921\n",
      "Width, Height -> 1080,1921\n"
     ]
    }
   ],
   "source": [
    "#Example Program\n",
    "from PIL import Image\n",
    "pic = Image.open('jai-shree-ram-hd-hanuman-ebq48hig2eimhppf.jpg')\n",
    "print(f'Width, Height -> {pic.size}') # Approach 1\n",
    "print(f'Width, Height -> {pic.width},{pic.height}') # Approach 2\n",
    "width,height = pic.size\n",
    "print(f'Width, Height -> {width},{height}') # Approach 3"
   ]
  },
  {
   "cell_type": "markdown",
   "id": "bc3c32be",
   "metadata": {},
   "source": [
    "# 5.\n",
    "What method would you call to get Image object for a 100×100 image, excluding the lower-left\n",
    "quarter of it?"
   ]
  },
  {
   "cell_type": "code",
   "execution_count": 12,
   "id": "a3e605be",
   "metadata": {},
   "outputs": [],
   "source": [
    "from PIL import Image\n",
    "img = Image.open('jai-shree-ram-hd-hanuman-ebq48hig2eimhppf.jpg')\n",
    "new_img = img.crop((0,50,50,50))"
   ]
  },
  {
   "cell_type": "markdown",
   "id": "83aa8627",
   "metadata": {},
   "source": [
    "# 6.\n",
    "After making changes to an Image object, how could you save it as an image file?"
   ]
  },
  {
   "cell_type": "code",
   "execution_count": 13,
   "id": "6b4019da",
   "metadata": {},
   "outputs": [],
   "source": [
    "#Example Program\n",
    "from PIL import Image\n",
    "pic = Image.open('jai-shree-ram-hd-hanuman-ebq48hig2eimhppf.jpg')\n",
    "pic.save('pic2.jpg')"
   ]
  },
  {
   "cell_type": "markdown",
   "id": "586ab821",
   "metadata": {},
   "source": [
    "# 7.\n",
    "What module contains Pillow’s shape-drawing code?"
   ]
  },
  {
   "cell_type": "markdown",
   "id": "26f00337",
   "metadata": {},
   "source": [
    "<b>Answers:</b><br>\n",
    " Pillows ImageDraw module contains Shape drawing methods"
   ]
  },
  {
   "cell_type": "markdown",
   "id": "39e5aa41",
   "metadata": {},
   "source": [
    "# 8.\n",
    "Image objects do not have drawing methods. What kind of object does? How do you get this kind\n",
    "of object?"
   ]
  },
  {
   "cell_type": "markdown",
   "id": "bcd886b9",
   "metadata": {},
   "source": [
    "<b>Answers:</b><br>ImageDraw objects have shape-drawing methods such as point(), line(), or rectangle().They are returned by passing the Image object to the ImageDraw.Draw() function."
   ]
  }
 ],
 "metadata": {
  "kernelspec": {
   "display_name": "Python 3 (ipykernel)",
   "language": "python",
   "name": "python3"
  },
  "language_info": {
   "codemirror_mode": {
    "name": "ipython",
    "version": 3
   },
   "file_extension": ".py",
   "mimetype": "text/x-python",
   "name": "python",
   "nbconvert_exporter": "python",
   "pygments_lexer": "ipython3",
   "version": "3.9.12"
  }
 },
 "nbformat": 4,
 "nbformat_minor": 5
}
