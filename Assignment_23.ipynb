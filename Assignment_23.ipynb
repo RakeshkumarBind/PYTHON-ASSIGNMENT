{
 "cells": [
  {
   "cell_type": "markdown",
   "id": "99e75301",
   "metadata": {},
   "source": [
    "# 1.\n",
    "What is the result of the code, and why?<br>\n",
    "&gt;&gt;&gt; def func(a, b=6, c=8):<br>\n",
    "print(a, b, c)<br>\n",
    "&gt;&gt;&gt; func(1, 2)<br>"
   ]
  },
  {
   "cell_type": "markdown",
   "id": "ec16c76b",
   "metadata": {},
   "source": [
    "<b>Answer:</b><br>This funtion is taking a positional argument and 2 keyward argument. When function is called, parameter passed \n",
    "   are a=1,b=2. When the function is executed , parameter c=8 will be taken by default as its a keyword argument.\n",
    "   solution is = 1,2,8"
   ]
  },
  {
   "cell_type": "code",
   "execution_count": 11,
   "id": "e5c815b7",
   "metadata": {},
   "outputs": [
    {
     "name": "stdout",
     "output_type": "stream",
     "text": [
      "1 2 8\n"
     ]
    }
   ],
   "source": [
    "def func(a, b=6, c=8):\n",
    "    print(a, b, c)\n",
    "func(1, 2)"
   ]
  },
  {
   "cell_type": "markdown",
   "id": "cb1ff952",
   "metadata": {},
   "source": [
    "# 2. \n",
    "What is the result of this code, and why?<br>\n",
    "&gt;&gt;&gt; def func(a, b, c=5):<br>\n",
    "print(a, b, c)<br>\n",
    "&gt;&gt;&gt; func(1, c=3, b=2)<br>"
   ]
  },
  {
   "cell_type": "markdown",
   "id": "c00f478a",
   "metadata": {},
   "source": [
    "<b>Answer:</b><br> The result of the above code is 1 2 3. it is because the function will use default values only when a value for a argument is not provided and if argument name is mentioned while doing a function call, the order of arguments is also ignored by the python interpreter"
   ]
  },
  {
   "cell_type": "code",
   "execution_count": 12,
   "id": "bae295c4",
   "metadata": {},
   "outputs": [
    {
     "name": "stdout",
     "output_type": "stream",
     "text": [
      "1 2 3\n"
     ]
    }
   ],
   "source": [
    "def func(a,b,c=5):\n",
    "    print(a,b,c)\n",
    "func(1,c=3,b=2)"
   ]
  },
  {
   "cell_type": "markdown",
   "id": "06f3d8ed",
   "metadata": {},
   "source": [
    "# 3. \n",
    "How about this code: what is its result, and why?<br>\n",
    "&gt;&gt;&gt; def func(a, *pargs):<br>\n",
    "print(a, pargs)<br>\n",
    "&gt;&gt;&gt; func(1, 2, 3)<br>"
   ]
  },
  {
   "cell_type": "markdown",
   "id": "86d6610c",
   "metadata": {},
   "source": [
    "<b>Answer:</b><br>The result of the code is 1 (2,3). *pargs stands for variable length arguments. this format is used when we are not sure about the no of arguments to be passed to a function. all the values under this argument will be stored in a tuple."
   ]
  },
  {
   "cell_type": "code",
   "execution_count": 13,
   "id": "6fe92990",
   "metadata": {},
   "outputs": [
    {
     "name": "stdout",
     "output_type": "stream",
     "text": [
      "1 (2, 3)\n"
     ]
    }
   ],
   "source": [
    "def func(a, *pargs):\n",
    "    print(a,pargs)\n",
    "func(1,2,3)"
   ]
  },
  {
   "cell_type": "markdown",
   "id": "0e80ba13",
   "metadata": {},
   "source": [
    "# 4.\n",
    "What does this code print, and why?<br>\n",
    "&gt;&gt;&gt; def func(a, **kargs):<br>\n",
    "print(a, kargs)<br>\n",
    "&gt;&gt;&gt; func(a=1, c=3, b=2)<br>"
   ]
  },
  {
   "cell_type": "markdown",
   "id": "2161b1ca",
   "metadata": {},
   "source": [
    "<b>Answer:</b><br>The result of the above code is 1 {'c': 3, 'b': 2}. **args stands for variable length keyword arguments. this format is used when we want pass key value pairs as input to a function. All these key value pairs will be stored in a dictionary"
   ]
  },
  {
   "cell_type": "code",
   "execution_count": 14,
   "id": "27fcd903",
   "metadata": {},
   "outputs": [
    {
     "name": "stdout",
     "output_type": "stream",
     "text": [
      "1 {'c': 3, 'b': 2}\n"
     ]
    }
   ],
   "source": [
    "def func(a,**kargs):\n",
    "    print(a,kargs)\n",
    "func(a=1,c=3,b=2)"
   ]
  },
  {
   "cell_type": "markdown",
   "id": "89d0e5ec",
   "metadata": {},
   "source": [
    "# 5.\n",
    "What gets printed by this, and explain?<br>\n",
    "&gt;&gt;&gt; def func(a, b, c=8, d=5): print(a, b, c, d)<br>\n",
    "&gt;&gt;&gt; func(1, *(5, 6))<br>"
   ]
  },
  {
   "cell_type": "markdown",
   "id": "01e17687",
   "metadata": {},
   "source": [
    "<b>Answer:</b><br> \n",
    "1565<br>\n",
    "Asterick is the unpacking operator and are operators that unpack the values from iterable objects in Python. The single \n",
    "asterisk operator * can be used on any iterable that Python provides, while the double asterisk operator '**' can only \n",
    "be used on dictionaries. In the example the value *(5,6) will be unpacked and will be assigned to b and c and passed \n",
    "as arguments, d =5 will taken by defaults are keyword arguments."
   ]
  },
  {
   "cell_type": "code",
   "execution_count": 15,
   "id": "464f40e7",
   "metadata": {},
   "outputs": [
    {
     "name": "stdout",
     "output_type": "stream",
     "text": [
      "1 5 6 5\n"
     ]
    }
   ],
   "source": [
    "def func(a, b, c=8, d=5): \n",
    "    print(a, b, c, d)\n",
    "func(1, *(5, 6))"
   ]
  },
  {
   "cell_type": "markdown",
   "id": "b3cf21b7",
   "metadata": {},
   "source": [
    "# 6.\n",
    "what is the result of this, and explain?<br>\n",
    "&gt;&gt;&gt; def func(a, b, c): a = 2; b[0] = &#39;x&#39;; c[&#39;a&#39;] = &#39;y&#39;<br>\n",
    "&gt;&gt;&gt; l=1; m=[1]; n={&#39;a&#39;:0}<br>\n",
    "&gt;&gt;&gt; func(l, m, n)<br>\n",
    "<br>\n",
    "&gt;&gt;&gt; l, m, n<br>"
   ]
  },
  {
   "cell_type": "markdown",
   "id": "404fd032",
   "metadata": {},
   "source": [
    "<b>Answer:</b><br>\n",
    "--Eventhough Python gives importance to indentation. its provides a facility to declare an entire function in one single line. where statements in a function body are sepereated by ;<br>\n",
    "--When l,m,n are provided as inputs to the function. its modifies the values of l,m,n and sets the value of l=1 ,m=['x'] and n={'a':'y'}\n"
   ]
  },
  {
   "cell_type": "code",
   "execution_count": 23,
   "id": "261878d6",
   "metadata": {},
   "outputs": [
    {
     "data": {
      "text/plain": [
       "(1, ['x'], {'a': 'y'})"
      ]
     },
     "execution_count": 23,
     "metadata": {},
     "output_type": "execute_result"
    }
   ],
   "source": [
    "def func(a, b, c): \n",
    "    a = 2; b[0] = 'x'; c['a'] = 'y'\n",
    "\n",
    "l=1; m=[1]; n={'a':0}\n",
    "func(l, m, n)\n",
    "\n",
    "l, m, n"
   ]
  },
  {
   "cell_type": "code",
   "execution_count": null,
   "id": "7d5a1c57",
   "metadata": {},
   "outputs": [],
   "source": []
  },
  {
   "cell_type": "code",
   "execution_count": null,
   "id": "0eef4f91",
   "metadata": {},
   "outputs": [],
   "source": []
  },
  {
   "cell_type": "code",
   "execution_count": null,
   "id": "b46e91a8",
   "metadata": {},
   "outputs": [],
   "source": []
  }
 ],
 "metadata": {
  "kernelspec": {
   "display_name": "Python 3 (ipykernel)",
   "language": "python",
   "name": "python3"
  },
  "language_info": {
   "codemirror_mode": {
    "name": "ipython",
    "version": 3
   },
   "file_extension": ".py",
   "mimetype": "text/x-python",
   "name": "python",
   "nbconvert_exporter": "python",
   "pygments_lexer": "ipython3",
   "version": "3.9.12"
  }
 },
 "nbformat": 4,
 "nbformat_minor": 5
}
