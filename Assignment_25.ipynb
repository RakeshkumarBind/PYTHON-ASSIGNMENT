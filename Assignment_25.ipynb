{
 "cells": [
  {
   "cell_type": "markdown",
   "id": "99130dbc",
   "metadata": {},
   "source": [
    "# 1.\n",
    "What is the difference between enclosing a list comprehension in square brackets and\n",
    "parentheses?"
   ]
  },
  {
   "cell_type": "markdown",
   "id": "68741540",
   "metadata": {},
   "source": [
    "<b>Answer:</b><br>Enclosing a list comprehension in square brackets returns a list.but where as enclosing a list comprehension in parentheses returns a generator object"
   ]
  },
  {
   "cell_type": "code",
   "execution_count": 2,
   "id": "53cf9839",
   "metadata": {},
   "outputs": [
    {
     "data": {
      "text/plain": [
       "[0, 1, 2, 3, 4, 5, 6, 7, 8, 9]"
      ]
     },
     "execution_count": 2,
     "metadata": {},
     "output_type": "execute_result"
    }
   ],
   "source": [
    "lstSquare = [i for i in range(10)]\n",
    "lstSquare"
   ]
  },
  {
   "cell_type": "markdown",
   "id": "1ce51005",
   "metadata": {},
   "source": [
    "If you are familiar with list comprehensions, then this look likes it might create a tuple which is (1,2,3,4,....), but it is actually a generator expression - this expression is a one time only iterator which will yield the values 1, 2, 3, 4.... in that order"
   ]
  },
  {
   "cell_type": "code",
   "execution_count": 3,
   "id": "45f9d221",
   "metadata": {},
   "outputs": [
    {
     "data": {
      "text/plain": [
       "<generator object <genexpr> at 0x0000021A12CAD900>"
      ]
     },
     "execution_count": 3,
     "metadata": {},
     "output_type": "execute_result"
    }
   ],
   "source": [
    "listParanthesis = (i for i in range(10))\n",
    "listParanthesis"
   ]
  },
  {
   "cell_type": "markdown",
   "id": "7ea4c972",
   "metadata": {},
   "source": [
    "# 2.\n",
    "What is the relationship between generators and iterators?"
   ]
  },
  {
   "cell_type": "code",
   "execution_count": null,
   "id": "b5fe8d57",
   "metadata": {},
   "outputs": [],
   "source": [
    "<b>Answer:</b><br>\n",
    "An iterator is an object which contains a countable number of values and it is used to iterate over iterable objects like list, tuples etc\n",
    "Using an iterator-<br>\n",
    "iter() keyword is used to create an iterator containing an iterable object.<br>\n",
    "next() keyword is used to call the next element in the iterable object.<br>\n",
    "<br>\n",
    "Generator<br>\n",
    "It is another way of creating iterators in a simple way where it uses the keyword “yield” instead of returning it in a defined function<br>\n",
    "Generators are implemented using a function<br>\n",
    "Here, the yield function returns the data without affecting or exiting the function. <br>\n",
    "It will return a sequence of data in an iterable format where we need to iterate over the sequence to use the data as they won’t store the entire sequence in the memory\n",
    "By using next() function we can iterate the output of generator function<br>"
   ]
  },
  {
   "cell_type": "code",
   "execution_count": 4,
   "id": "0a02bc6e",
   "metadata": {},
   "outputs": [
    {
     "name": "stdout",
     "output_type": "stream",
     "text": [
      "vineet\n",
      "harit\n",
      "rakesh\n"
     ]
    }
   ],
   "source": [
    "# iterator\n",
    "iter_list = iter(['vineet', 'harit', 'rakesh'])\n",
    "print(next(iter_list))\n",
    "print(next(iter_list))\n",
    "print(next(iter_list))"
   ]
  },
  {
   "cell_type": "code",
   "execution_count": 6,
   "id": "60cd662f",
   "metadata": {},
   "outputs": [],
   "source": [
    "# Generator \n",
    "\n",
    "def sq_numbers(n):\n",
    "    for i in range(1, n+1):\n",
    "        yield i*i"
   ]
  },
  {
   "cell_type": "markdown",
   "id": "3b92c3df",
   "metadata": {},
   "source": [
    "# 3.\n",
    "What are the signs that a function is a generator function?"
   ]
  },
  {
   "cell_type": "markdown",
   "id": "0e5fc80a",
   "metadata": {},
   "source": [
    "<b>Answer:</b><br>\n",
    "   If a function contains at least one yield statement (it may contain other yield or return statements), it becomes a generator function. Both yield and return will return some value from a function."
   ]
  },
  {
   "cell_type": "markdown",
   "id": "dc56ed99",
   "metadata": {},
   "source": [
    "# 4.\n",
    "What is the purpose of a yield statement?"
   ]
  },
  {
   "cell_type": "markdown",
   "id": "d9507208",
   "metadata": {},
   "source": [
    "<b>Answer:</b><br>\n",
    "    he yield statement suspends function’s execution and sends a value back to the caller, but retains enough state to enable function to resume where it is left off. When resumed, the function continues execution immediately after the last yield run. This allows its code to produce a series of values over time, rather than computing them at once and sending them back like a list."
   ]
  },
  {
   "cell_type": "markdown",
   "id": "c0832014",
   "metadata": {},
   "source": [
    "# 5.\n",
    "What is the relationship between map calls and list comprehensions? Make a comparison and\n",
    "contrast between the two."
   ]
  },
  {
   "cell_type": "markdown",
   "id": "780e8701",
   "metadata": {},
   "source": [
    "<b>Answer:</b><br>\n",
    "    Both map calls and list comprehensions are used for similar purposes in Python, which is to perform transformations on iterable objects (such as lists) and create new iterable objects based on those transformations. However, they have different syntax and characteristics. <br>\n",
    "    <br>\n",
    "    <br>\n",
    "    Comparision :<br>\n",
    "    1. List comprehension is more concise and easier to read as compared to map<br>\n",
    "    2. List comprehension allows filtering. In map, we have no such facility<br>\n",
    "    For example, to print all even numbers in range of 100, we can write [n for n in range(100) if n%2 == 0]. There is \n",
    "    no alternate for it in map<br>\n",
    "    3. List comprehension are used when a list of results is required, where as map only returns a map object and does \n",
    "    not return any list.<br>\n",
    "    4. List comprehension is faster than map when we need to evaluate expressions that are too long or complicated \n",
    "    to express.<br>\n",
    "    5. Map is faster in case of calling an already defined function (as no lambda is required)<br>"
   ]
  }
 ],
 "metadata": {
  "kernelspec": {
   "display_name": "Python 3 (ipykernel)",
   "language": "python",
   "name": "python3"
  },
  "language_info": {
   "codemirror_mode": {
    "name": "ipython",
    "version": 3
   },
   "file_extension": ".py",
   "mimetype": "text/x-python",
   "name": "python",
   "nbconvert_exporter": "python",
   "pygments_lexer": "ipython3",
   "version": "3.9.12"
  }
 },
 "nbformat": 4,
 "nbformat_minor": 5
}
