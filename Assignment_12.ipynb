{
 "cells": [
  {
   "cell_type": "markdown",
   "id": "d809f61a",
   "metadata": {},
   "source": [
    "# 1. \n",
    "In what modes should the PdfFileReader() and PdfFileWriter() File objects will be opened?"
   ]
  },
  {
   "cell_type": "markdown",
   "id": "c20070b5",
   "metadata": {},
   "source": [
    "<b>Answer:</b><br>\n",
    "    For PdfFileReader() file objects should be opened in rb -> read binary mode, Whereas for PdfFileWriter() file objects should be opened in wb -> write binary mode."
   ]
  },
  {
   "cell_type": "markdown",
   "id": "6e9f5cfa",
   "metadata": {},
   "source": [
    "# 2. \n",
    "From a PdfFileReader object, how do you get a Page object for page 5?"
   ]
  },
  {
   "cell_type": "markdown",
   "id": "4469aeb6",
   "metadata": {},
   "source": [
    "<b>Answer:</b><br>\n",
    "    PdfFileReader class provides a method called getPage(page_no) to get a page object. Calling getPage(4) will return a Page object for page 5 since page 0 is the first page"
   ]
  },
  {
   "cell_type": "code",
   "execution_count": 2,
   "id": "58cf5674",
   "metadata": {},
   "outputs": [
    {
     "name": "stdout",
     "output_type": "stream",
     "text": [
      "Collecting PyPDF2\n",
      "  Downloading pypdf2-3.0.1-py3-none-any.whl (232 kB)\n",
      "Requirement already satisfied: typing_extensions>=3.10.0.0 in c:\\users\\dell\\anaconda3\\lib\\site-packages (from PyPDF2) (4.1.1)\n",
      "Installing collected packages: PyPDF2\n",
      "Successfully installed PyPDF2-3.0.1\n"
     ]
    }
   ],
   "source": [
    "!pip install PyPDF2"
   ]
  },
  {
   "cell_type": "code",
   "execution_count": 5,
   "id": "a350a4a5",
   "metadata": {},
   "outputs": [],
   "source": [
    "# Example Code:\n",
    "#from PyPDF2 import PdfFileReader\n",
    "#pdf_reader = PdfFileReader(file_path)\n",
    "#for page in pdf_reader.getNumPages():\n",
    " #   pdf_reader.getPage(page)"
   ]
  },
  {
   "cell_type": "markdown",
   "id": "3a66b526",
   "metadata": {},
   "source": [
    "# 3. \n",
    "What PdfFileReader variable stores the number of pages in the PDF document?"
   ]
  },
  {
   "cell_type": "markdown",
   "id": "a6e8f43a",
   "metadata": {},
   "source": [
    "<b>Answer:</b><br>\n",
    "    getNumPages() method of PdfFileReader class stores the no pages in a PDF document"
   ]
  },
  {
   "cell_type": "markdown",
   "id": "8a00bbe2",
   "metadata": {},
   "source": [
    "# 4.\n",
    "If a PdfFileReader object’s PDF is encrypted with the password swordfish, what must you do\n",
    "before you can obtain Page objects from it?"
   ]
  },
  {
   "cell_type": "markdown",
   "id": "09718028",
   "metadata": {},
   "source": [
    "<b>Answer:</b><br>\n",
    "     If a PdfFileReader object’s PDF is encrypted with the password swordfish and you're not aware of it. first read the Pdf using the PdfFileReader Class. PdfFileReader class provides a attribute called isEncrypted to check whether a pdf is encrypted or not. the method returns true if a pdf is encrypted and vice versa.\n",
    "if pdf is encrypted use the decrypt() method provided by PdfFileReader class first then try to read the contents/pages of the pdf, else PyPDF2 will raise the following error PyPDF2.utils.PdfReadError: file has not been decrypted"
   ]
  },
  {
   "cell_type": "raw",
   "id": "f1e9d0bb",
   "metadata": {},
   "source": [
    "#Example Code:\n",
    "from PyPDF2 import PdfFileReader\n",
    "pdf_reader = PdfFileReader(file_path)\n",
    "if pdf_reader.isEncrypted: # to check whether the pdf is encrypted or not\n",
    "    pdf_reader.decrypt(\"swordfish\")\n",
    "for page in pdf_reader.pages:\n",
    "    print(page.extractText()) # to print the text data of a page from pdf"
   ]
  },
  {
   "cell_type": "markdown",
   "id": "4a7ace85",
   "metadata": {},
   "source": [
    "# 5.\n",
    "What methods do you use to rotate a page?"
   ]
  },
  {
   "cell_type": "markdown",
   "id": "152a08aa",
   "metadata": {},
   "source": [
    "<b>Answer:</b><br>\n",
    "    PyPDF2 Package provides 2 methods to rotate a page:<br>\n",
    "\n",
    "rotateClockWise() -> For Clockwise rotation<br>\n",
    "rotateCounterClockWise() -> For Counter Clockwise rotation<br>"
   ]
  },
  {
   "cell_type": "markdown",
   "id": "0a8643eb",
   "metadata": {},
   "source": [
    "# 6.\n",
    "What is the difference between a Run object and a Paragraph object?"
   ]
  },
  {
   "cell_type": "markdown",
   "id": "e148a77a",
   "metadata": {},
   "source": [
    "<b>Answer:</b><br>\n",
    "    The main difference between a Run object and a Paragraph object is that a Run represents a contiguous run of text with consistent formatting within a paragraph, while a Paragraph represents a block of text with consistent paragraph-level properties and can contain multiple Runs."
   ]
  },
  {
   "cell_type": "markdown",
   "id": "5d4f86e4",
   "metadata": {},
   "source": [
    "# 7. \n",
    "How do you obtain a list of Paragraph objects for a Document object that’s stored in a variable\n",
    "named doc?"
   ]
  },
  {
   "cell_type": "raw",
   "id": "d6583a4a",
   "metadata": {},
   "source": [
    "# Example Program\n",
    "#!pip install python-docx\n",
    "#from docx import Document\n",
    "#doc = Document(\"sample_file.docx\") # Path of the Docx file\n",
    "#print(doc.paragraphs) # Prints the list of Paragraph objects for a Document\n",
    "#for paragraph in doc.paragraphs:\n",
    "  #  print(paragraph.text) # Prints the text in the paragraph"
   ]
  },
  {
   "cell_type": "markdown",
   "id": "1292242d",
   "metadata": {},
   "source": [
    "# 8.\n",
    "What type of object has bold, underline, italic, strike, and outline variables?"
   ]
  },
  {
   "cell_type": "markdown",
   "id": "3a7e53e0",
   "metadata": {},
   "source": [
    "<b>Answer:</b><br>\n",
    "    A Run object has bold, underline,italic,strike and outline variables"
   ]
  },
  {
   "cell_type": "markdown",
   "id": "0445a712",
   "metadata": {},
   "source": [
    "# 9.\n",
    "What is the difference between False, True, and None for the bold variable?"
   ]
  },
  {
   "cell_type": "markdown",
   "id": "7a515ee2",
   "metadata": {},
   "source": [
    "<b>Answer:</b><br>\n",
    "Runs can be further styled using text attributes. Each attribute can be set to one of three values:<br>\n",
    "True (the attribute is always enabled, no matter what other styles are applied to the run)<br>\n",
    "False (the attribute is always disabled)<br>\n",
    "None (defaults to whatever the run’s style is set to)<br>\n",
    "\n",
    "  \n",
    "   \n",
    "bold = True  # Style Set to Bold <br>\n",
    "bold = False # Style Not Set to Bold<br>\n",
    "bold = None # Style is Not Applicable<br>"
   ]
  },
  {
   "cell_type": "markdown",
   "id": "d678da8e",
   "metadata": {},
   "source": [
    "# 10. \n",
    "How do you create a Document object for a new Word document?\n"
   ]
  },
  {
   "cell_type": "markdown",
   "id": "0bd89b83",
   "metadata": {},
   "source": [
    "<b>Answer:</b><br>\n",
    "By Calling the docx.Document() function."
   ]
  },
  {
   "cell_type": "markdown",
   "id": "41f5d200",
   "metadata": {},
   "source": [
    "# 11.\n",
    "How do you add a paragraph with the text &#39;Hello, there!&#39; to a Document object stored in a\n",
    "variable named doc?\n"
   ]
  },
  {
   "cell_type": "markdown",
   "id": "a83b91b5",
   "metadata": {},
   "source": [
    "<b>Answer:</b><br>\n",
    "import docx<br>\n",
    "doc = docx.Document()<br>\n",
    "\n",
    "doc.add_paragraph('Hello there!')<br>\n",
    "doc.save('hellothere.docx')<br>"
   ]
  },
  {
   "cell_type": "markdown",
   "id": "42ac7dcb",
   "metadata": {},
   "source": [
    "# 12.\n",
    "What integers represent the levels of headings available in Word documents?"
   ]
  },
  {
   "cell_type": "markdown",
   "id": "5d825b96",
   "metadata": {},
   "source": [
    "<b>Answer:</b><br>\n",
    "The levels for a heading in a word document can be specified by using the level attribute inside the add_heading method. <br>\n",
    "There are a total of 5 levels statring for 0 t0 4. where level 0 makes a headline with the horizontal line below the text, whereas the heading level 1 is the main heading<br>\n",
    "Similarly, the other headings are sub-heading with their's font-sizes in decreasing order."
   ]
  }
 ],
 "metadata": {
  "kernelspec": {
   "display_name": "Python 3 (ipykernel)",
   "language": "python",
   "name": "python3"
  },
  "language_info": {
   "codemirror_mode": {
    "name": "ipython",
    "version": 3
   },
   "file_extension": ".py",
   "mimetype": "text/x-python",
   "name": "python",
   "nbconvert_exporter": "python",
   "pygments_lexer": "ipython3",
   "version": "3.9.12"
  }
 },
 "nbformat": 4,
 "nbformat_minor": 5
}
