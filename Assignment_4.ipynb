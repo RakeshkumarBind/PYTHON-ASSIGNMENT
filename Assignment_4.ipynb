{
 "cells": [
  {
   "cell_type": "markdown",
   "id": "28607b8e",
   "metadata": {},
   "source": [
    "# 1.\n",
    "What exactly is []?\n"
   ]
  },
  {
   "cell_type": "markdown",
   "id": "2ad5fd93",
   "metadata": {},
   "source": [
    "<b>Answers:</b><br>\n",
    "    [] is an empty list."
   ]
  },
  {
   "cell_type": "markdown",
   "id": "4bef9edb",
   "metadata": {},
   "source": [
    "# 2.\n",
    "In a list of values stored in a variable called spam, how would you assign the value &#39;hello&#39; as the\n",
    "third value? (Assume [2, 4, 6, 8, 10] are in spam.)"
   ]
  },
  {
   "cell_type": "markdown",
   "id": "c6e55fa3",
   "metadata": {},
   "source": [
    "<b>Answers:</b><br>\n",
    "    There are two ways <br>\n",
    "    1. spam[2]='hello' -----based on index i am reassigning the 2 index (i.e the 3 value)<br>\n",
    "    2. spam.insert(2, 'hello') ------Here we are reassigning the value of 2 index but the previous stored 2 index will not be lost it will just move to next index<br>\n",
    "    LETS SEE WITH EXAMPLE"
   ]
  },
  {
   "cell_type": "code",
   "execution_count": 1,
   "id": "fd9c10ee",
   "metadata": {},
   "outputs": [
    {
     "name": "stdout",
     "output_type": "stream",
     "text": [
      "[2, 4, 6, 8, 10]\n",
      "[2, 4, 'hello', 8, 10]\n"
     ]
    }
   ],
   "source": [
    "#REASSIGNMENT OPERATION\n",
    "spam=[2,4,6,8,10]\n",
    "print(spam)\n",
    "spam[2]='hello' \n",
    "print(spam)"
   ]
  },
  {
   "cell_type": "code",
   "execution_count": 2,
   "id": "c1b4a86b",
   "metadata": {},
   "outputs": [
    {
     "data": {
      "text/plain": [
       "[2, 4, 'hello', 6, 8, 10]"
      ]
     },
     "execution_count": 2,
     "metadata": {},
     "output_type": "execute_result"
    }
   ],
   "source": [
    "#INSERTION OPERATION\n",
    "spam = [2,4,6,8,10]\n",
    "spam.insert(2, 'hello')\n",
    "spam"
   ]
  },
  {
   "cell_type": "markdown",
   "id": "5ab9c1ae",
   "metadata": {},
   "source": [
    "# Let&#39;s pretend the spam includes the list [&#39;a&#39;, &#39;b&#39;, &#39;c&#39;, &#39;d&#39;] for the next three queries."
   ]
  },
  {
   "cell_type": "markdown",
   "id": "99bfb96a",
   "metadata": {},
   "source": [
    "# 3. \n",
    "What is the value of spam[int(int(&#39;3&#39; * 2) / 11)]?"
   ]
  },
  {
   "cell_type": "markdown",
   "id": "eb19944e",
   "metadata": {},
   "source": [
    "<b>Answers:</b><br>\n",
    "    'd' ------BECAUSE '3' * 2 is the string '33', which is passed to int() before being divided by 11. This eventually evaluates to 3, spam[3] is equal to d<BR>\n",
    "    LETS SEE USING CODE"
   ]
  },
  {
   "cell_type": "code",
   "execution_count": 5,
   "id": "b35a9059",
   "metadata": {},
   "outputs": [
    {
     "data": {
      "text/plain": [
       "'d'"
      ]
     },
     "execution_count": 5,
     "metadata": {},
     "output_type": "execute_result"
    }
   ],
   "source": [
    "SPAM=['a', 'b', 'c', 'd']\n",
    "SPAM[int(int('3' * 2) / 11)]\n"
   ]
  },
  {
   "cell_type": "markdown",
   "id": "70e06da8",
   "metadata": {},
   "source": [
    "# 4.\n",
    "What is the value of spam[-1]?"
   ]
  },
  {
   "cell_type": "markdown",
   "id": "f741d1d6",
   "metadata": {},
   "source": [
    "<b>Answers:</b><br>\n",
    "    'd' <br>\n",
    "     It is because Lists support Negative indexing, Hence spam[-1] returns 'd'"
   ]
  },
  {
   "cell_type": "code",
   "execution_count": 7,
   "id": "7e4ba964",
   "metadata": {},
   "outputs": [
    {
     "data": {
      "text/plain": [
       "'d'"
      ]
     },
     "execution_count": 7,
     "metadata": {},
     "output_type": "execute_result"
    }
   ],
   "source": [
    "SPAM[-1]"
   ]
  },
  {
   "cell_type": "markdown",
   "id": "663c413e",
   "metadata": {},
   "source": [
    "# 5.\n",
    "What is the value of spam[:2]?"
   ]
  },
  {
   "cell_type": "markdown",
   "id": "d6b49cec",
   "metadata": {},
   "source": [
    "<b>Answers:</b><br>\n",
    "    ['a', 'b']  --------This is a list extraction operation in which by default starting point is not defined than it starts from 0 and end point is set at 2 where 2 index is excluded and by default the jump is 1"
   ]
  },
  {
   "cell_type": "code",
   "execution_count": 8,
   "id": "aea049e0",
   "metadata": {},
   "outputs": [
    {
     "data": {
      "text/plain": [
       "['a', 'b']"
      ]
     },
     "execution_count": 8,
     "metadata": {},
     "output_type": "execute_result"
    }
   ],
   "source": [
    "SPAM[:2]"
   ]
  },
  {
   "cell_type": "markdown",
   "id": "1dfeacf3",
   "metadata": {},
   "source": [
    "# Let&#39;s pretend bacon has the list [3.14, &#39;cat,&#39; 11, &#39;cat,&#39; True] for the next three questions."
   ]
  },
  {
   "cell_type": "markdown",
   "id": "7c5616df",
   "metadata": {},
   "source": [
    "# 6. \n",
    "What is the value of bacon.index(&#39;cat&#39;)?"
   ]
  },
  {
   "cell_type": "markdown",
   "id": "316730fe",
   "metadata": {},
   "source": [
    "<b>Answers:</b><br>\n",
    "    The value of bacon.index('cat') is 1 <br>\n",
    "    this is because the index method returns the index of first occuerence of 'cat'"
   ]
  },
  {
   "cell_type": "code",
   "execution_count": 11,
   "id": "1f38c7ea",
   "metadata": {},
   "outputs": [
    {
     "name": "stdout",
     "output_type": "stream",
     "text": [
      "bacon.index('cat') 1\n"
     ]
    }
   ],
   "source": [
    "bacon=[3.14,'cat',11,'cat',True]\n",
    "print(\"bacon.index('cat')\",bacon.index('cat'))"
   ]
  },
  {
   "cell_type": "markdown",
   "id": "ae511ff8",
   "metadata": {},
   "source": [
    "# 7.\n",
    "How does bacon.append(99) change the look of the list value in bacon?"
   ]
  },
  {
   "cell_type": "markdown",
   "id": "74e47e73",
   "metadata": {},
   "source": [
    "<b>Answers:</b><br>\n",
    "     The append method adds new elements at the end of the list"
   ]
  },
  {
   "cell_type": "code",
   "execution_count": 14,
   "id": "24b3dd50",
   "metadata": {},
   "outputs": [
    {
     "name": "stdout",
     "output_type": "stream",
     "text": [
      "before append  [3.14, 'cat', 11, 'cat', True]\n",
      "after bacon [3.14, 'cat', 11, 'cat', True, 99]\n"
     ]
    }
   ],
   "source": [
    "bacon=[3.14,'cat',11,'cat',True]\n",
    "print(\"before append \" , bacon)\n",
    "bacon.append(99)\n",
    "print(\"after bacon\" ,bacon)"
   ]
  },
  {
   "cell_type": "markdown",
   "id": "e8238c68",
   "metadata": {},
   "source": [
    "# 8. \n",
    "How does bacon.remove(&#39;cat&#39;) change the look of the list in bacon?"
   ]
  },
  {
   "cell_type": "markdown",
   "id": "774fe0a0",
   "metadata": {},
   "source": [
    "<b>Answers:</b><br>\n",
    "    The remove method removes the first occurence of the element in the list"
   ]
  },
  {
   "cell_type": "code",
   "execution_count": 16,
   "id": "8fbd0957",
   "metadata": {},
   "outputs": [
    {
     "name": "stdout",
     "output_type": "stream",
     "text": [
      "[3.14, 11, 'cat', True, 99]\n",
      "[3.14, 11, True, 99]\n"
     ]
    }
   ],
   "source": [
    "print(bacon)\n",
    "bacon.remove('cat')\n",
    "print(bacon)"
   ]
  },
  {
   "cell_type": "markdown",
   "id": "4aa5bae1",
   "metadata": {},
   "source": [
    "# 9. \n",
    "What are the list concatenation and list replication operators?"
   ]
  },
  {
   "cell_type": "markdown",
   "id": "2f398dea",
   "metadata": {},
   "source": [
    "<b>Answers:</b><br>\n",
    "    The operator for list concatenation is \"+\", while the operator for replication is \"*\"."
   ]
  },
  {
   "cell_type": "code",
   "execution_count": 18,
   "id": "1b85b1d9",
   "metadata": {},
   "outputs": [
    {
     "name": "stdout",
     "output_type": "stream",
     "text": [
      "['rakesh', 'harit', 'vineet', 'santosh', 'lalsha', 'sunita', 'kavita', 'shital']\n",
      "['rakesh', 'harit', 'vineet', 'santosh', 'rakesh', 'harit', 'vineet', 'santosh']\n"
     ]
    }
   ],
   "source": [
    "#Examples : \n",
    "l1= ['rakesh','harit','vineet','santosh']\n",
    "l2 = ['lalsha','sunita','kavita','shital']\n",
    "print(l1 + l2) # List Concatenation -----BOTH LIST ARE ADDED TOGETHER\n",
    "print(l1*2) # List Replication------L1 LIST IS REPLICCATED "
   ]
  },
  {
   "cell_type": "markdown",
   "id": "14630adf",
   "metadata": {},
   "source": [
    "# 10.\n",
    "What is difference between the list methods append() and insert()?"
   ]
  },
  {
   "cell_type": "markdown",
   "id": "7bc07920",
   "metadata": {},
   "source": [
    "<b>Answers:</b><br>\n",
    "    The append method in list will add the value at the end of the list while the insert method can be used to specify the index position where you want to store the value."
   ]
  },
  {
   "cell_type": "code",
   "execution_count": 22,
   "id": "0bc423f9",
   "metadata": {},
   "outputs": [
    {
     "name": "stdout",
     "output_type": "stream",
     "text": [
      "l1 list ['rakesh', 'harit', 'vineet', 'santosh']\n",
      "using append  ['rakesh', 'harit', 'vineet', 'santosh', 'vijay']\n",
      "using insert  ['rakesh', 'vivek', 'harit', 'vineet', 'santosh', 'vijay']\n"
     ]
    }
   ],
   "source": [
    "#Examples:\n",
    "l1= ['rakesh','harit','vineet','santosh']\n",
    "print(\"l1 list\" , l1)\n",
    "l1.append(\"vijay\")\n",
    "print(\"using append \" ,l1) #You can see the vijay is added at the end of the list\n",
    "l1.insert(1,\"vivek\")\n",
    "print(\"using insert \",l1) #on the 1 index vivek is added using insert"
   ]
  },
  {
   "cell_type": "markdown",
   "id": "2b61bc4c",
   "metadata": {},
   "source": [
    "# 11.\n",
    "What are the two methods for removing items from a list?"
   ]
  },
  {
   "cell_type": "markdown",
   "id": "95e65e38",
   "metadata": {},
   "source": [
    "<b>Answers:</b><br>\n",
    "    pop() and remove() are methods for removing items from a list.<br>\n",
    "    pop() is based on index while remove() is based on item value not on index"
   ]
  },
  {
   "cell_type": "code",
   "execution_count": 25,
   "id": "84f68dc5",
   "metadata": {},
   "outputs": [
    {
     "name": "stdout",
     "output_type": "stream",
     "text": [
      "l1 list ['rakesh', 'harit', 'vineet', 'santosh']\n",
      "after pop ['rakesh', 'harit', 'santosh']\n",
      "after remove() ['rakesh', 'harit']\n"
     ]
    }
   ],
   "source": [
    "#Example : \n",
    "l1= ['rakesh','harit','vineet','santosh']\n",
    "print(\"l1 list\" , l1)\n",
    "#using pop() to remove vineet\n",
    "l1.pop(2)  #vineet is on 2 index\n",
    "print(\"after pop\",l1)\n",
    "#using remove() to remove santosh\n",
    "l1.remove('santosh')\n",
    "print(\"after remove()\",l1)"
   ]
  },
  {
   "cell_type": "markdown",
   "id": "b77c9516",
   "metadata": {},
   "source": [
    "# 12.\n",
    "Describe how list values and string values are identical."
   ]
  },
  {
   "cell_type": "markdown",
   "id": "0080b8c0",
   "metadata": {},
   "source": [
    "<b>Answers:</b><br>\n",
    "   1. Indexing: Both lists and strings can be accessed using indexing.Individual elements of a list or a string can be accessed by their position, starting from 0 for the first element.<br>\n",
    "\n",
    "   2. Slicing: Both lists and strings can be sliced to extract a portion of the sequence. Slicing allows you to create a new list or string containing a subset of the original elements.<br>\n",
    "\n",
    "   3. Iteration: Lists and strings can be iterated over using loops. You can use a for loop to iterate through each element of a list or each character of a string.<br>\n",
    "\n",
    "   4. Length: You can find the length of a list or a string using the len() function. It returns the number of elements in a list or the number of characters in a string.<br>\n",
    "\n",
    "   5. Concatenation: Both lists and strings can be concatenated using the + operator. This allows you to combine multiple lists or strings into a single list or string.<br>"
   ]
  },
  {
   "cell_type": "markdown",
   "id": "9f1dfeac",
   "metadata": {},
   "source": [
    "# 13. \n",
    "What&#39;s the difference between tuples and lists?"
   ]
  },
  {
   "cell_type": "markdown",
   "id": "4523d911",
   "metadata": {},
   "source": [
    "<b>Answers:</b><br>\n",
    "    1. Mutability: Lists are mutable, which means you can modify, add, or remove elements after they are created. In contrast, tuples are immutable, and once created, you cannot change the elements within a tuple. If you need a collection that should not be modified, using a tuple is a good choice.<br>\n",
    "    2. Syntax: Lists are defined using square brackets [ ], while tuples are defined using parentheses ( ).<br>\n",
    "    3. Item Assignment: In tuple you cannot do item assignment as thry are immutable lists allow you to assign new values to specific elements. <br>\n",
    "        \n",
    "        NOTE : TUPLES CAN BE USED WHEN WE DONT WANT TO IT TO BE MODIFIED LIKE FOR STORING PASSWORDS\n",
    "            \n",
    "    "
   ]
  },
  {
   "cell_type": "markdown",
   "id": "d2082f49",
   "metadata": {},
   "source": [
    "# 14. \n",
    "How do you type a tuple value that only contains the integer 42?"
   ]
  },
  {
   "cell_type": "markdown",
   "id": "92b2e23c",
   "metadata": {},
   "source": [
    "<b>Answers:</b><br>\n",
    "    (42,) The trailing comma is mandatory. otherwise its considered as a int by python Interpreter"
   ]
  },
  {
   "cell_type": "code",
   "execution_count": 26,
   "id": "c75cb4fd",
   "metadata": {},
   "outputs": [
    {
     "name": "stdout",
     "output_type": "stream",
     "text": [
      "<class 'int'>\n",
      "<class 'tuple'>\n"
     ]
    }
   ],
   "source": [
    "tup1=(42)\n",
    "tup2=(42,)\n",
    "print(type(tup1))\n",
    "print(type(tup2))"
   ]
  },
  {
   "cell_type": "markdown",
   "id": "20b453c4",
   "metadata": {},
   "source": [
    "# 15.\n",
    "How do you get a list value&#39;s tuple form? How do you get a tuple value&#39;s list form?"
   ]
  },
  {
   "cell_type": "markdown",
   "id": "cd6a9338",
   "metadata": {},
   "source": [
    "<b>Answers:</b><br>\n",
    "     The tuple() and list() functions, respectively are used to convert a list to tuple and vice versa<BR>\n",
    "        LETS SEE\n",
    "    "
   ]
  },
  {
   "cell_type": "code",
   "execution_count": 31,
   "id": "65e4db0b",
   "metadata": {},
   "outputs": [
    {
     "name": "stdout",
     "output_type": "stream",
     "text": [
      "tuple from list (62, 32, 'HARIT', 7)\n",
      "list from tuple [33, 44, 'RAKESH']\n"
     ]
    }
   ],
   "source": [
    "#list value's tuple form\n",
    "l = [62, 32,'HARIT', 7]\n",
    "t = tuple(l)\n",
    "print(\"tuple from list\" ,t)\n",
    "#tuple value's list form\n",
    "t = (33, 44, 'RAKESH')\n",
    "l = list(t)\n",
    "print(\"list from tuple\" ,l)"
   ]
  },
  {
   "cell_type": "markdown",
   "id": "9c11fafb",
   "metadata": {},
   "source": [
    "# 16. \n",
    "Variables that &quot;contain&quot; list values are not necessarily lists themselves. Instead, what do they\n",
    "contain?"
   ]
  },
  {
   "cell_type": "markdown",
   "id": "84e3768a",
   "metadata": {},
   "source": [
    "<b>Answers:</b><br>\n",
    "    They contain references to list values."
   ]
  },
  {
   "cell_type": "markdown",
   "id": "bff19dc8",
   "metadata": {},
   "source": [
    "# 17.\n",
    "How do you distinguish between copy.copy() and copy.deepcopy()?"
   ]
  },
  {
   "cell_type": "markdown",
   "id": "19bd4142",
   "metadata": {},
   "source": [
    "<b>Answers:</b><br>\n",
    "    1. copy.copy(): This function performs a shallow copy of an object. A shallow copy creates a new object and populates it with references to the same elements as the original object. In other words, it copies the references, but not the actual objects themselves. If the original object contains mutable objects (like lists or dictionaries), the shallow copy will still refer to the same objects as the original. Changes made to these mutable objects will be reflected in both the original and the copied object.<br>\n",
    "    2. copy.deepcopy(): This function performs a deep copy of an object. A deep copy creates a new object and recursively copies all objects found within the original object. This includes copying the objects referenced by the original object, and the objects referenced by those objects, and so on. In a deep copy, the copied object and all its nested objects are completely independent of the original object. Changes made to the copied object or its nested objects will not affect the original object.<br>\n",
    "        #lets see example"
   ]
  },
  {
   "cell_type": "code",
   "execution_count": 33,
   "id": "c5042afe",
   "metadata": {},
   "outputs": [
    {
     "name": "stdout",
     "output_type": "stream",
     "text": [
      "original [1, [2, 3, 5], 4]\n",
      "copy.copy()  [1, [2, 3, 5], 4]\n",
      "copy.deepcopy()  [1, [2, 3], 4]\n"
     ]
    }
   ],
   "source": [
    "import copy\n",
    "\n",
    "original_list = [1, [2, 3], 4]\n",
    "copy_shallow = copy.copy(original_list)\n",
    "copy_deep = copy.deepcopy(original_list)\n",
    "\n",
    "# Modifying the original list and its nested list\n",
    "original_list[1].append(5)\n",
    "\n",
    "print(\"original\" ,original_list)    # [1, [2, 3, 5], 4]\n",
    "print(\"copy.copy() \" ,copy_shallow)     # [1, [2, 3, 5], 4]\n",
    "print(\"copy.deepcopy() \",copy_deep)        # [1, [2, 3], 4]"
   ]
  },
  {
   "cell_type": "markdown",
   "id": "3757ac4b",
   "metadata": {},
   "source": [
    "In summary, copy.copy() creates a new object with references to the same nested objects, while copy.deepcopy() creates a new object with recursively copied nested objects, resulting in a completely independent copy."
   ]
  },
  {
   "cell_type": "code",
   "execution_count": null,
   "id": "8269c5b9",
   "metadata": {},
   "outputs": [],
   "source": []
  },
  {
   "cell_type": "code",
   "execution_count": null,
   "id": "015e3f5d",
   "metadata": {},
   "outputs": [],
   "source": []
  },
  {
   "cell_type": "code",
   "execution_count": null,
   "id": "8940b3be",
   "metadata": {},
   "outputs": [],
   "source": []
  }
 ],
 "metadata": {
  "kernelspec": {
   "display_name": "Python 3 (ipykernel)",
   "language": "python",
   "name": "python3"
  },
  "language_info": {
   "codemirror_mode": {
    "name": "ipython",
    "version": 3
   },
   "file_extension": ".py",
   "mimetype": "text/x-python",
   "name": "python",
   "nbconvert_exporter": "python",
   "pygments_lexer": "ipython3",
   "version": "3.9.12"
  }
 },
 "nbformat": 4,
 "nbformat_minor": 5
}
