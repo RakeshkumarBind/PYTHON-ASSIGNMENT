{
 "cells": [
  {
   "cell_type": "markdown",
   "id": "6ad165ba",
   "metadata": {},
   "source": [
    "# 1.\n",
    "What advantages do Excel spreadsheets have over CSV spreadsheets?"
   ]
  },
  {
   "cell_type": "markdown",
   "id": "8eb23887",
   "metadata": {},
   "source": [
    "<b>Answer:</b> <br>\n",
    "    \n",
    "<b> ADVANTAGES OF EXCEL SPREADASHEET OVER CSV SPREADSHEETS ARE :</b> <br>\n",
    "<b>1.Formatting and Styling:</b> Excel allows you to apply various formatting and styling options to your data, such as fonts, colors, borders, cell merging, and conditional formatting. <br> \n",
    "<b>2.Formulas and Functions:</b> Excel supports a wide range of built-in formulas and functions that can be used for calculations, data analysis, and automation. <br>\n",
    "<b>3.Charts and Graphs:</b> Excel provides robust charting and graphing tools, making it easy to create visual representations of your data. You can generate bar charts, pie charts, line graphs, and more directly within Excel. <br>\n",
    "<b>4.Data Validation:</b> Excel allows you to set up data validation rules to ensure data integrity. You can define rules for cell values, restrict data input to specific formats, and create drop-down lists for data entry. <br>\n",
    "<b>5.Filtering and Sorting:</b> Excel offers powerful filtering and sorting options, enabling you to quickly organize and analyze large datasets. You can filter data based on criteria and sort data in ascending or descending order. <br>\n",
    "<b>6.Data Protection:</b> Excel provides password protection and encryption options to secure your spreadsheet files. You can also set permissions to control who can view or edit specific parts of a workbook. <br>\n",
    "<b>7.Macro and VBA Support:</b> Excel supports macros and VBA (Visual Basic for Applications), allowing you to automate tasks, create custom functions, and build interactive user interfaces within your spreadsheets. <br>\n",
    "<b>8.Data Integration:</b> Excel can connect to external data sources, such as databases, web services, and other files. You can import and refresh data from various sources, making it suitable for more complex data analysis tasks. <br>\n",
    "<b>9.PivotTables and PivotCharts:</b> Excel's PivotTables and PivotCharts are powerful tools for summarizing and analyzing large datasets. They allow you to create dynamic reports and perform multidimensional analysis. <br>\n",
    "<b>10.Collaboration:</b> While Excel may not be as collaborative as some dedicated cloud-based tools, it does offer real-time co-authoring and sharing options through OneDrive or SharePoint, making it suitable for teamwork on spreadsheets. <br>\n",
    "<b>11.Advanced Data Analysis:</b> Excel supports add-ins and extensions for advanced data analysis tasks, such as statistical analysis, forecasting, and optimization. <br>\n",
    "\n"
   ]
  },
  {
   "cell_type": "markdown",
   "id": "09570285",
   "metadata": {},
   "source": [
    "# 2.\n",
    "What do you pass to csv.reader() and csv.writer() to create reader and writer objects?"
   ]
  },
  {
   "cell_type": "markdown",
   "id": "42167c22",
   "metadata": {},
   "source": [
    "<b>Answer:</b><br>\n",
    "For csv.reader() we will pass a <b> file object </b> that contains the csv data that you want read\n",
    "and it can be crerated using the open() function also we can add additional optional parameter.<br>\n",
    "\n",
    "for csv.writer() also we will pass a file object whwere you want to write the csv data and it can be created using open function and we can add optional parameter.<br>\n"
   ]
  },
  {
   "cell_type": "code",
   "execution_count": 20,
   "id": "acaa23e0",
   "metadata": {},
   "outputs": [],
   "source": [
    "#csv.reader()\n",
    "#import csv\n",
    "#with open('data.csv', 'r') as csv_file:\n",
    "#    csv_reader = csv.reader(csv_file, delimiter=',')"
   ]
  },
  {
   "cell_type": "code",
   "execution_count": 21,
   "id": "68846f86",
   "metadata": {},
   "outputs": [],
   "source": [
    "import csv\n",
    "with open('output.csv', 'w', newline='') as csv_file:\n",
    "    csv_writer = csv.writer(csv_file, delimiter=',')"
   ]
  },
  {
   "cell_type": "markdown",
   "id": "c09d3d45",
   "metadata": {},
   "source": [
    "# 3. \n",
    "What modes do File objects for reader and writer objects need to be opened in?"
   ]
  },
  {
   "cell_type": "markdown",
   "id": "e90df4a7",
   "metadata": {},
   "source": [
    "<b>Answer:</b><br>\n",
    "For csv.reader(iterable_file_object), the file objects needed to be opened in read mode mode='r'<br>\n",
    "Whereas for csv.writer(iterable_file_object) the file objects needed to be opened in write mode mode='w'"
   ]
  },
  {
   "cell_type": "markdown",
   "id": "aad5e466",
   "metadata": {},
   "source": [
    "# 4. \n",
    "What method takes a list argument and writes it to a CSV file?"
   ]
  },
  {
   "cell_type": "markdown",
   "id": "30393d43",
   "metadata": {},
   "source": [
    "<b>Answer:</b><br>\n",
    "csv.writer() class provides two methods for writing to CSV.<br>\n",
    "They are writerow() and writerows(). writerow() method writes a single row at a time.<br> \n",
    "Whereas writerows() method is used to write multiple rows at a time."
   ]
  },
  {
   "cell_type": "code",
   "execution_count": 22,
   "id": "ab737a9f",
   "metadata": {},
   "outputs": [],
   "source": [
    "# Example Program\n",
    "import csv      \n",
    "fields = ['Name', 'Branch', 'Year', 'CGPA'] #column names \n",
    "rows = [ \n",
    "            ['Rakesh', 'ME', '4', '9.0'],  # data rows of csv file \n",
    "            ['Harit', 'CS', '3', '9.1'], \n",
    "            ['Vineet', 'IT', '4', '9.3']\n",
    "       ] \n",
    "with open(\"college.csv\", 'w') as csvfile: \n",
    "    csvwriter = csv.writer(csvfile) # creating a csv writer object \n",
    "    csvwriter.writerow(fields) # writing the fields \n",
    "    csvwriter.writerows(rows) # writing the data rows "
   ]
  },
  {
   "cell_type": "markdown",
   "id": "8ac26360",
   "metadata": {},
   "source": [
    "# 5. \n",
    "What do the keyword arguments delimiter and line terminator do?"
   ]
  },
  {
   "cell_type": "markdown",
   "id": "4da5d939",
   "metadata": {},
   "source": [
    "<b>Answer:</b><br>\n",
    "The delimiter is the character that appears between cells on a row. By default, the delimiter for a CSV file is a comma.<br>\n",
    "The line terminator is the character that comes at the end of a row. By default, the line terminator is a newline."
   ]
  },
  {
   "cell_type": "markdown",
   "id": "73848f5c",
   "metadata": {},
   "source": [
    "# 6.\n",
    "What function takes a string of JSON data and returns a Python data structure?"
   ]
  },
  {
   "cell_type": "code",
   "execution_count": 23,
   "id": "2a0ad52d",
   "metadata": {},
   "outputs": [
    {
     "ename": "SyntaxError",
     "evalue": "invalid syntax (3944237845.py, line 1)",
     "output_type": "error",
     "traceback": [
      "\u001b[1;36m  Input \u001b[1;32mIn [23]\u001b[1;36m\u001b[0m\n\u001b[1;33m    <b>Answer:</b><br>\u001b[0m\n\u001b[1;37m    ^\u001b[0m\n\u001b[1;31mSyntaxError\u001b[0m\u001b[1;31m:\u001b[0m invalid syntax\n"
     ]
    }
   ],
   "source": [
    "<b>Answer:</b><br>\n",
    "json.loads() method takes a string of JSON data and returns a Python data structure"
   ]
  },
  {
   "cell_type": "code",
   "execution_count": 24,
   "id": "7110e2aa",
   "metadata": {},
   "outputs": [
    {
     "name": "stdout",
     "output_type": "stream",
     "text": [
      "{\n",
      "    \"Name\": \"Rakesh Bind\",\n",
      "    \"Qualification\": \"Bachelor of Engineering\",\n",
      "    \"Stream\": \"Mechanical Engineering\"\n",
      "}\n",
      "Type of my_details_json is <class 'str'>\n",
      "{'Name': 'Rakesh Bind', 'Qualification': 'Bachelor of Engineering', 'Stream': 'Mechanical Engineering'}\n",
      "Type of my_details is <class 'dict'>\n"
     ]
    }
   ],
   "source": [
    "# Example of json.loads() method\n",
    "import json\n",
    "my_json ='''{\n",
    "    \"Name\": \"Rakesh Bind\",\n",
    "    \"Qualification\": \"Bachelor of Engineering\",\n",
    "    \"Stream\": \"Mechanical Engineering\"\n",
    "}'''\n",
    "print(my_json)\n",
    "print(f'Type of my_details_json is {type(my_json)}')\n",
    "my_details = json.loads(my_json)\n",
    "print(my_details)\n",
    "print(f'Type of my_details is {type(my_details)}')"
   ]
  },
  {
   "cell_type": "markdown",
   "id": "44aa8bd4",
   "metadata": {},
   "source": [
    "# 7.\n",
    "What function takes a Python data structure and returns a string of JSON data?"
   ]
  },
  {
   "cell_type": "markdown",
   "id": "052f36a5",
   "metadata": {},
   "source": [
    "<b>Answer:</b><br>\n",
    "json.dumps() method takes a python data structure and returns a string of JSON data."
   ]
  },
  {
   "cell_type": "code",
   "execution_count": 25,
   "id": "2900642f",
   "metadata": {},
   "outputs": [
    {
     "name": "stdout",
     "output_type": "stream",
     "text": [
      "{'Name': 'Rakesh Bind', 'Qualification': 'Bachelor of Engineering', 'Stream': 'Mechanical Engineering'}\n",
      "Type of details is <class 'dict'>\n",
      "{\n",
      "    \"Name\": \"Rakesh Bind\",\n",
      "    \"Qualification\": \"Bachelor of Engineering\",\n",
      "    \"Stream\": \"Mechanical Engineering\"\n",
      "}\n",
      "Type of details_json is <class 'str'>\n"
     ]
    }
   ],
   "source": [
    "# Example of json.dumps() method\n",
    "import json\n",
    "details = {\n",
    "    \"Name\": \"Rakesh Bind\",\n",
    "    \"Qualification\": \"Bachelor of Engineering\",\n",
    "    \"Stream\": \"Mechanical Engineering\"\n",
    "}\n",
    "print(details)\n",
    "print(f'Type of details is {type(details)}')\n",
    "details_json = json.dumps(details, indent=4, sort_keys=True)\n",
    "print(details_json)\n",
    "print(f'Type of details_json is {type(details_json)}')"
   ]
  }
 ],
 "metadata": {
  "kernelspec": {
   "display_name": "Python 3 (ipykernel)",
   "language": "python",
   "name": "python3"
  },
  "language_info": {
   "codemirror_mode": {
    "name": "ipython",
    "version": 3
   },
   "file_extension": ".py",
   "mimetype": "text/x-python",
   "name": "python",
   "nbconvert_exporter": "python",
   "pygments_lexer": "ipython3",
   "version": "3.9.12"
  }
 },
 "nbformat": 4,
 "nbformat_minor": 5
}
