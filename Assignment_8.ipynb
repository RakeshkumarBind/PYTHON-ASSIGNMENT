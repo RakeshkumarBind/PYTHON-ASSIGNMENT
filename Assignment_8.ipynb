{
 "cells": [
  {
   "cell_type": "markdown",
   "id": "f2a57a13",
   "metadata": {},
   "source": [
    "# 1.\n",
    "Is the Python Standard Library included with PyInputPlus?"
   ]
  },
  {
   "cell_type": "markdown",
   "id": "9704cf6f",
   "metadata": {},
   "source": [
    "<b>Answers:</b><br>\n",
    "    No, PyInputPlus is not a part of Python Standard Library, it needs to be installed explicitly using the command !pip install PyInputPlus"
   ]
  },
  {
   "cell_type": "markdown",
   "id": "4101857e",
   "metadata": {},
   "source": [
    "# 2.\n",
    "Why is PyInputPlus commonly imported with import pyinputplus as pypi?"
   ]
  },
  {
   "cell_type": "markdown",
   "id": "dad79aff",
   "metadata": {},
   "source": [
    "<b>Answers:</b><br>\n",
    "    You can import the module with import pyinputplus as pyip so that you can enter a shorter name when calling the module's functions."
   ]
  },
  {
   "cell_type": "markdown",
   "id": "cf93aca5",
   "metadata": {},
   "source": [
    "# 3.\n",
    "How do you distinguish between inputInt() and inputFloat()?"
   ]
  },
  {
   "cell_type": "markdown",
   "id": "105792aa",
   "metadata": {},
   "source": [
    "<b>Answers:</b><br>\n",
    "                                    \n",
    " inputInt() function Accepts an integer value. This also takes additional parameters min, max, greaterThan and lessThan for bounds. And it always returns an int.<br>\n",
    " \n",
    " Whereas inputFloat() function Accepts a floating-point numeric value. this also takes additional min, max, greaterThan and lessThan parameters. and always returns a float."
   ]
  },
  {
   "cell_type": "markdown",
   "id": "191946e2",
   "metadata": {},
   "source": [
    "# 4.\n",
    "Using PyInputPlus, how do you ensure that the user enters a whole number between 0 and 99?"
   ]
  },
  {
   "cell_type": "markdown",
   "id": "a79ec1df",
   "metadata": {},
   "source": [
    "<b>Answers:</b><br>\n",
    "    PyInputPlus module provides a function called as inputInt() which only returns only integer values. inorder to restrict the input between 0 and 99, i'ii use parameters like min & max to ensure that user enters the values between the defined range only."
   ]
  },
  {
   "cell_type": "markdown",
   "id": "6e5f03b7",
   "metadata": {},
   "source": [
    "# 5. \n",
    "What is transferred to the keyword arguments allowRegexes and blockRegexes?"
   ]
  },
  {
   "cell_type": "markdown",
   "id": "cfb51f10",
   "metadata": {},
   "source": [
    "<b>Answers:</b><br>\n",
    "    The allowRegexes and blockRegexes keyword arguments take a list of regular expression strings to determine what the PyInputPlus function will accept or reject as valid input"
   ]
  },
  {
   "cell_type": "markdown",
   "id": "58005014",
   "metadata": {},
   "source": [
    "# 6.\n",
    "If a blank input is entered three times, what does inputStr(limit=3) do?"
   ]
  },
  {
   "cell_type": "markdown",
   "id": "6b0d9c37",
   "metadata": {},
   "source": [
    "<b>Answers:</b><br>\n",
    "    The statement inputStr(limit=3) will throw two exceptions ValidationException and RetryLimitException. The first exception is thrown because blank values are not allowed by inputStr() function by default. it we want to consider blank values as valid input, we have to set blank=True.<br>\n",
    "\n",
    "The second exception is occured because we have reached the max limit we have specified by using limit parameter. inorder to avoid this exception we can use default parameter to return a default value when max limit is reached.<br>"
   ]
  },
  {
   "cell_type": "markdown",
   "id": "dbb9c16c",
   "metadata": {},
   "source": [
    "# 7.\n",
    "If blank input is entered three times, what does inputStr(limit=3, default=&#39;hello&#39;) do?"
   ]
  },
  {
   "cell_type": "markdown",
   "id": "f6ede7e0",
   "metadata": {},
   "source": [
    "<b>Answers:</b><br>\n",
    "    Since the default parameter is set to hello. after blank input is entered three times instead of raising RetryLimitException exception. the function will return hello as response to the calling function"
   ]
  },
  {
   "cell_type": "code",
   "execution_count": null,
   "id": "2f9611ac",
   "metadata": {},
   "outputs": [],
   "source": []
  }
 ],
 "metadata": {
  "kernelspec": {
   "display_name": "Python 3 (ipykernel)",
   "language": "python",
   "name": "python3"
  },
  "language_info": {
   "codemirror_mode": {
    "name": "ipython",
    "version": 3
   },
   "file_extension": ".py",
   "mimetype": "text/x-python",
   "name": "python",
   "nbconvert_exporter": "python",
   "pygments_lexer": "ipython3",
   "version": "3.9.12"
  }
 },
 "nbformat": 4,
 "nbformat_minor": 5
}
