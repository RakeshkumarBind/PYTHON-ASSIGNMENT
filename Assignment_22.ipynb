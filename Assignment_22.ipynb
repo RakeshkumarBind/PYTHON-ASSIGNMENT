{
 "cells": [
  {
   "cell_type": "markdown",
   "id": "4e0b6696",
   "metadata": {},
   "source": [
    "# 1.\n",
    "What is the result of the code, and explain?\n",
    "<br>\n",
    "&gt;&gt;&gt; X = &#39;iNeuron&#39;<br>\n",
    "&gt;&gt;&gt; def func():<br>\n",
    "print(X)<br>\n",
    "<br>\n",
    "&gt;&gt;&gt; func()<br>"
   ]
  },
  {
   "cell_type": "markdown",
   "id": "91647d3a",
   "metadata": {},
   "source": [
    "<b>Answer:</b><br>\n",
    "The result of the code is 'iNeuron' .\n",
    "Because there is a global variable `X` defined outside the `func()` function, and then the `func()` function is defined to print the value of `X`. \n",
    "When you call the `func()` function, it will print the value of the global variable `X`.\n",
    "\n"
   ]
  },
  {
   "cell_type": "code",
   "execution_count": 9,
   "id": "c6c8ae17",
   "metadata": {},
   "outputs": [
    {
     "name": "stdout",
     "output_type": "stream",
     "text": [
      "iNeuron\n"
     ]
    }
   ],
   "source": [
    "X = 'iNeuron'\n",
    "def func():\n",
    "    print(X)\n",
    "func()"
   ]
  },
  {
   "cell_type": "markdown",
   "id": "d17943a5",
   "metadata": {},
   "source": [
    "# 2.\n",
    "What is the result of the code, and explain?<br>\n",
    "<br>\n",
    "&gt;&gt;&gt; X = &#39;iNeuron&#39;<br>\n",
    "&gt;&gt;&gt; def func():<br>\n",
    "X = &#39;NI!&#39;<br>\n",
    "<br>\n",
    "&gt;&gt;&gt; func()<br>\n",
    "&gt;&gt;&gt; print(X)<br>"
   ]
  },
  {
   "cell_type": "markdown",
   "id": "b2cfcd2c",
   "metadata": {},
   "source": [
    "<b>Answer:</b><br>\n",
    "    The Result of this cide is NI!, because the function initially looks for the variable X in its local scope if X is not available then it checks for variable X in the global scope, Since here the X is present in the local scope. it prints the value NI!"
   ]
  },
  {
   "cell_type": "code",
   "execution_count": 10,
   "id": "5add6a41",
   "metadata": {},
   "outputs": [
    {
     "name": "stdout",
     "output_type": "stream",
     "text": [
      "NI!\n"
     ]
    }
   ],
   "source": [
    "X = 'iNeuron'\n",
    "def func():\n",
    "    X = 'NI!'\n",
    "    print(X)\n",
    "func()"
   ]
  },
  {
   "cell_type": "markdown",
   "id": "0caff3b9",
   "metadata": {},
   "source": [
    "# 3. \n",
    "What does this code print, and why?<br>\n",
    "<br>\n",
    "&gt;&gt;&gt; X = &#39;iNeuron&#39;<br>\n",
    "&gt;&gt;&gt; def func():<br>\n",
    "X = &#39;NI&#39;<br>\n",
    "print(X)<br>\n",
    "<br>\n",
    "&gt;&gt;&gt; func()<br>\n",
    "&gt;&gt;&gt; print(X)<br>"
   ]
  },
  {
   "cell_type": "markdown",
   "id": "df2e0323",
   "metadata": {},
   "source": [
    "<b>Answer:</b><br>\n",
    "    The output of the code is NI and iNeuron. X=NI is in the local scope of the function func() hence the function prints the x value as NI. X = 'iNeuron' is in the global scope hence print(X) prints output as iNeuron"
   ]
  },
  {
   "cell_type": "code",
   "execution_count": 11,
   "id": "ca6477aa",
   "metadata": {},
   "outputs": [
    {
     "name": "stdout",
     "output_type": "stream",
     "text": [
      "NI\n",
      "iNeuron\n"
     ]
    }
   ],
   "source": [
    "X = 'iNeuron'\n",
    "def func():\n",
    "    X = 'NI'\n",
    "    print(X)\n",
    "func()\n",
    "print(X)"
   ]
  },
  {
   "cell_type": "markdown",
   "id": "6a0064f3",
   "metadata": {},
   "source": [
    "# 4. \n",
    "What output does this code produce? Why?<br>\n",
    "<br>\n",
    "&gt;&gt;&gt; X = &#39;iNeuron&#39;<br>\n",
    "&gt;&gt;&gt; def func():<br>\n",
    "global X<br>\n",
    "X = &#39;NI&#39;<br>\n",
    "<br>\n",
    "&gt;&gt;&gt; func()<br>\n",
    "&gt;&gt;&gt; print(X)<br>"
   ]
  },
  {
   "cell_type": "markdown",
   "id": "6db9d006",
   "metadata": {},
   "source": [
    "<b>Answer:</b><br>\n",
    "The output of the code is NI. the global keyword allows a variable to be accessible in the current scope. since we are using global keyword inside the function func it directly access the variable in X in global scope. and changes its value to NI. hence the output of the code is NI"
   ]
  },
  {
   "cell_type": "code",
   "execution_count": 12,
   "id": "d6d119be",
   "metadata": {},
   "outputs": [
    {
     "name": "stdout",
     "output_type": "stream",
     "text": [
      "NI\n"
     ]
    }
   ],
   "source": [
    "X = 'iNeuron'\n",
    "def func():\n",
    "    global X\n",
    "    X = 'NI'\n",
    "func()\n",
    "print(X)"
   ]
  },
  {
   "cell_type": "markdown",
   "id": "87f00a40",
   "metadata": {},
   "source": [
    "# 5. \n",
    "What about this code—what’s the output, and why?<br>\n",
    "<br>\n",
    "&gt;&gt;&gt; X = &#39;iNeuron&#39;<br>\n",
    "&gt;&gt;&gt; def func():<br>\n",
    "X = &#39;NI&#39;<br>\n",
    "def nested():<br>\n",
    "print(X)<br>\n",
    "nested()<br>\n",
    "<br>\n",
    "&gt;&gt;&gt; func()<br>\n",
    "&gt;&gt;&gt; X<br>"
   ]
  },
  {
   "cell_type": "markdown",
   "id": "3e54f37e",
   "metadata": {},
   "source": [
    "<b>Answer:</b><br>The output of the code is NI. the reason for this output is if a function wants to access a variable, if its not available in its localscope. it looks for the variable in its global scope. similarly here also function nested looks for variable X in its global scope. hence the output of the code is NI"
   ]
  },
  {
   "cell_type": "code",
   "execution_count": 13,
   "id": "7e919eaf",
   "metadata": {},
   "outputs": [
    {
     "name": "stdout",
     "output_type": "stream",
     "text": [
      "NI\n"
     ]
    },
    {
     "data": {
      "text/plain": [
       "'iNeuron'"
      ]
     },
     "execution_count": 13,
     "metadata": {},
     "output_type": "execute_result"
    }
   ],
   "source": [
    "X = 'iNeuron'\n",
    "def func():\n",
    "    X = 'NI'\n",
    "    def nested():\n",
    "        print(X)\n",
    "    nested()\n",
    "func()\n",
    "X"
   ]
  },
  {
   "cell_type": "markdown",
   "id": "b22d01dd",
   "metadata": {},
   "source": [
    "# 6.\n",
    "How about this code: what is its output in Python 3, and explain?<br>\n",
    "&gt;&gt;&gt; def func():<br>\n",
    "X = &#39;NI&#39;<br>\n",
    "def nested():<br>\n",
    "nonlocal X<br>\n",
    "X = &#39;Spam&#39;<br>\n",
    "nested()<br>\n",
    "print(X)<br>\n",
    "<br>\n",
    "&gt;&gt;&gt; func()<br>"
   ]
  },
  {
   "cell_type": "markdown",
   "id": "ce0a5118",
   "metadata": {},
   "source": [
    "<b>Answer:</b><br>The output of the code is Spam. nonlocal keyword in python is used to declare a variable as not local.Hence the statement X = \"Spam\" is modified in the global scope. hence the output of print(X) statement is Spam"
   ]
  },
  {
   "cell_type": "code",
   "execution_count": 14,
   "id": "5bebc04a",
   "metadata": {},
   "outputs": [
    {
     "name": "stdout",
     "output_type": "stream",
     "text": [
      "Spam\n"
     ]
    }
   ],
   "source": [
    "def func():\n",
    "    X = 'NI'\n",
    "    def nested():\n",
    "        nonlocal X\n",
    "        X = 'Spam'\n",
    "    nested()\n",
    "    print(X)\n",
    "func()"
   ]
  },
  {
   "cell_type": "code",
   "execution_count": null,
   "id": "f9049826",
   "metadata": {},
   "outputs": [],
   "source": []
  }
 ],
 "metadata": {
  "kernelspec": {
   "display_name": "Python 3 (ipykernel)",
   "language": "python",
   "name": "python3"
  },
  "language_info": {
   "codemirror_mode": {
    "name": "ipython",
    "version": 3
   },
   "file_extension": ".py",
   "mimetype": "text/x-python",
   "name": "python",
   "nbconvert_exporter": "python",
   "pygments_lexer": "ipython3",
   "version": "3.9.12"
  }
 },
 "nbformat": 4,
 "nbformat_minor": 5
}
