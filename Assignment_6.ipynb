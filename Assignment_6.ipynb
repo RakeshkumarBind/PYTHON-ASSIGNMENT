{
 "cells": [
  {
   "cell_type": "markdown",
   "id": "0ec6d187",
   "metadata": {},
   "source": [
    "# 1.\n",
    "What are escape characters, and how do you use them?"
   ]
  },
  {
   "cell_type": "markdown",
   "id": "f75ba9a9",
   "metadata": {},
   "source": [
    "<b>Answers:</b><br>\n",
    "    Escape characters are special characters in a string that have a specific meaning and are used to represent certain actions or characters that cannot be easily typed or displayed directly.<br>\n",
    "    Escape characters are denoted by a backslash \\ followed by a specific character or sequence.<br>\n",
    "    1. \\n: Represents a newline character, causing the text to move to the next line.<br>\n",
    "    2. \\t: Represents a tab character, adding horizontal spacing or indentation.<br>\n",
    "    3. \\\\: Represents a backslash character itself.<br>\n",
    "    4. \\': Represents a single quote character.<br>\n",
    "    5. \\\": Represents a double quote character.<br>\n",
    "    6. \\uXXXX: Represents a Unicode character in hexadecimal format, where XXXX is the Unicode code point.<br>\n",
    "    7. \\xXX: Represents a character in hexadecimal format, where XX is the character's ASCII value.<br>"
   ]
  },
  {
   "cell_type": "code",
   "execution_count": 1,
   "id": "d72a8e6c",
   "metadata": {},
   "outputs": [
    {
     "name": "stdout",
     "output_type": "stream",
     "text": [
      "Hello\n",
      "World\n",
      "Hello\tWorld\n",
      "I'm a programmer\n",
      "She said, \"Hello!\"\n",
      "Unicode smiley face: ☺\n",
      "ASCII value of A: A\n"
     ]
    }
   ],
   "source": [
    "print(\"Hello\\nWorld\")\n",
    "# Output:\n",
    "# Hello\n",
    "# World\n",
    "\n",
    "print(\"Hello\\tWorld\")\n",
    "# Output:\n",
    "# Hello    World\n",
    "\n",
    "print(\"I\\'m a programmer\")\n",
    "# Output:\n",
    "# I'm a programmer\n",
    "\n",
    "print(\"She said, \\\"Hello!\\\"\")\n",
    "# Output:\n",
    "# She said, \"Hello!\"\n",
    "\n",
    "print(\"Unicode smiley face: \\u263A\")\n",
    "# Output:\n",
    "# Unicode smiley face: ☺\n",
    "\n",
    "print(\"ASCII value of A: \\x41\")\n",
    "# Output:\n",
    "# ASCII value of A: A\n"
   ]
  },
  {
   "cell_type": "markdown",
   "id": "828d8cc8",
   "metadata": {},
   "source": [
    "# 2. \n",
    "What do the escape characters n and t stand for?"
   ]
  },
  {
   "cell_type": "markdown",
   "id": "9ef5398a",
   "metadata": {},
   "source": [
    "<b>Answers:</b><br>\n",
    "   \\n is a newline, \\t is a tab"
   ]
  },
  {
   "cell_type": "markdown",
   "id": "f1562080",
   "metadata": {},
   "source": [
    "# 3. \n",
    "What is the way to include backslash characters in a string?"
   ]
  },
  {
   "cell_type": "markdown",
   "id": "c6dfa209",
   "metadata": {},
   "source": [
    "<b>Answers:</b><br>\n",
    "    The \\\\ escape character will represent the backslash character in a string"
   ]
  },
  {
   "cell_type": "markdown",
   "id": "ab54a4e7",
   "metadata": {},
   "source": [
    "# 4. \n",
    "The string &quot;Howl&#39;s Moving Castle&quot; is a correct value. Why isn&#39;t the single quote character in the\n",
    "word Howl&#39;s not escaped a problem?"
   ]
  },
  {
   "cell_type": "markdown",
   "id": "16f50cb8",
   "metadata": {},
   "source": [
    "<b>Answers:</b><br>\n",
    "     The string \"Howl's Moving Castle\" escaped the problem because it is wrapped inside double quotes. if its wrapped inside single quotes then we have to use escape character \\' to show single quote in the final output"
   ]
  },
  {
   "cell_type": "code",
   "execution_count": 2,
   "id": "5754342b",
   "metadata": {},
   "outputs": [
    {
     "data": {
      "text/plain": [
       "\"Howl's Moving Castle\""
      ]
     },
     "execution_count": 2,
     "metadata": {},
     "output_type": "execute_result"
    }
   ],
   "source": [
    " \"Howl's Moving Castle\""
   ]
  },
  {
   "cell_type": "code",
   "execution_count": 4,
   "id": "8274a4d8",
   "metadata": {},
   "outputs": [
    {
     "ename": "SyntaxError",
     "evalue": "invalid syntax (1664285470.py, line 1)",
     "output_type": "error",
     "traceback": [
      "\u001b[1;36m  Input \u001b[1;32mIn [4]\u001b[1;36m\u001b[0m\n\u001b[1;33m    'Howl's Moving Castle'\u001b[0m\n\u001b[1;37m          ^\u001b[0m\n\u001b[1;31mSyntaxError\u001b[0m\u001b[1;31m:\u001b[0m invalid syntax\n"
     ]
    }
   ],
   "source": [
    " 'Howl's Moving Castle'"
   ]
  },
  {
   "cell_type": "code",
   "execution_count": 6,
   "id": "259af510",
   "metadata": {},
   "outputs": [
    {
     "data": {
      "text/plain": [
       "\"Howl's Moving Castle\""
      ]
     },
     "execution_count": 6,
     "metadata": {},
     "output_type": "execute_result"
    }
   ],
   "source": [
    " 'Howl\\'s Moving Castle'  #using escape character"
   ]
  },
  {
   "cell_type": "markdown",
   "id": "7ce8b986",
   "metadata": {},
   "source": [
    "# 5.\n",
    "How do you write a string of newlines if you don&#39;t want to use the n character?"
   ]
  },
  {
   "cell_type": "markdown",
   "id": "93a56f6d",
   "metadata": {},
   "source": [
    "<b>Answers:</b><br>\n",
    "    Multiline string allow you to use newlines in string without the \\n escape character"
   ]
  },
  {
   "cell_type": "code",
   "execution_count": 12,
   "id": "5d68846a",
   "metadata": {},
   "outputs": [
    {
     "name": "stdout",
     "output_type": "stream",
     "text": [
      "RAKESH\n",
      "HARIT\n",
      "VINEET\n",
      "LALSHA\n"
     ]
    }
   ],
   "source": [
    "# Example:\n",
    "a = \"\"\"RAKESH\n",
    "HARIT\n",
    "VINEET\n",
    "LALSHA\"\"\"\n",
    "print(a)"
   ]
  },
  {
   "cell_type": "markdown",
   "id": "cf6f9575",
   "metadata": {},
   "source": [
    "# 6. \n",
    "What are the values of the given expressions?<br>\n",
    "&#39;Hello, world!&#39;[1]<br>\n",
    "&#39;Hello, world!&#39;[0:5]<br>\n",
    "&#39;Hello, world!&#39;[:5]<br>\n",
    "&#39;Hello, world!&#39;[3:]<br>"
   ]
  },
  {
   "cell_type": "markdown",
   "id": "86595c69",
   "metadata": {},
   "source": [
    "<b>Answers:</b><br>\n",
    "    'Hello, world!'[1] ----- 'e'<br>\n",
    "'Hello, world!'[0:5]----- 'Hello'<br>\n",
    "'Hello, world!'[:5]----- 'Hello'<br>\n",
    "'Hello, world!'[3:]----- 'lo, world!'<br>"
   ]
  },
  {
   "cell_type": "markdown",
   "id": "de93302b",
   "metadata": {},
   "source": [
    "# 7.\n",
    "What are the values of the following expressions?<br>\n",
    "&#39;Hello&#39;.upper()<br>\n",
    "&#39;Hello&#39;.upper().isupper()<br>\n",
    "&#39;Hello&#39;.upper().lower()<br>"
   ]
  },
  {
   "cell_type": "markdown",
   "id": "3a182fca",
   "metadata": {},
   "source": [
    "<b>Answers:</b><br>\n",
    "    The values for the given expressions are:<br>\n",
    "        'Hello'.upper() ----------------- 'HELLO'<br>\n",
    "        'Hello'.upper().isupper() -------- True<br>\n",
    "        'Hello'.upper().lower() --------- 'hello'<br>\n"
   ]
  },
  {
   "cell_type": "markdown",
   "id": "570bfd6a",
   "metadata": {},
   "source": [
    "# 8. \n",
    "What are the values of the following expressions?<br>\n",
    "&#39;Remember, remember, the fifth of July.&#39;.split()<br>\n",
    "&#39;-&#39;.join(&#39;There can only one.&#39;.split())<br>"
   ]
  },
  {
   "cell_type": "markdown",
   "id": "66508508",
   "metadata": {},
   "source": [
    "<b>Answers:</b><br>\n",
    "    'Remember, remember, the fifth of July.'.split() ----------> ['Remember,', 'remember,', 'the', 'fifth', 'of', 'July.']<br>\n",
    "   \n",
    "   '-'.join('There can only one.'.split())-------------------->'There-can-only-one.'<br>\n"
   ]
  },
  {
   "cell_type": "markdown",
   "id": "90d6ec6d",
   "metadata": {},
   "source": [
    "# 9.\n",
    "What are the methods for right-justifying, left-justifying, and centering a string?"
   ]
  },
  {
   "cell_type": "markdown",
   "id": "974fff23",
   "metadata": {},
   "source": [
    "<b>Answers:</b><br>\n",
    "    The rjust(),  ljust(),  center() string methods, respectively."
   ]
  },
  {
   "cell_type": "markdown",
   "id": "33812d32",
   "metadata": {},
   "source": [
    "# 10.\n",
    "What is the best way to remove whitespace characters from the start or end?"
   ]
  },
  {
   "cell_type": "markdown",
   "id": "a3129f7d",
   "metadata": {},
   "source": [
    "<b>Answers:</b><br>\n",
    "    The lstrip() and rstrip() methods remove whitesapce characters from the left and right ends of a string respectively."
   ]
  },
  {
   "cell_type": "code",
   "execution_count": null,
   "id": "5a3eab4c",
   "metadata": {},
   "outputs": [],
   "source": []
  },
  {
   "cell_type": "code",
   "execution_count": null,
   "id": "371373fa",
   "metadata": {},
   "outputs": [],
   "source": []
  }
 ],
 "metadata": {
  "kernelspec": {
   "display_name": "Python 3 (ipykernel)",
   "language": "python",
   "name": "python3"
  },
  "language_info": {
   "codemirror_mode": {
    "name": "ipython",
    "version": 3
   },
   "file_extension": ".py",
   "mimetype": "text/x-python",
   "name": "python",
   "nbconvert_exporter": "python",
   "pygments_lexer": "ipython3",
   "version": "3.9.12"
  }
 },
 "nbformat": 4,
 "nbformat_minor": 5
}
