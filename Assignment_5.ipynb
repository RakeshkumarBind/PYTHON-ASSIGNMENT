{
 "cells": [
  {
   "cell_type": "markdown",
   "id": "e3534fa6",
   "metadata": {},
   "source": [
    "# 1.\n",
    "What does an empty dictionary&#39;s code look like?"
   ]
  },
  {
   "cell_type": "markdown",
   "id": "77c269c9",
   "metadata": {},
   "source": [
    "<b>Answers:</b><br>\n",
    "    An empty dictionary is often represented by two empty curly brackets<br>\n",
    "    d = {} or d = dict()"
   ]
  },
  {
   "cell_type": "markdown",
   "id": "66c26a74",
   "metadata": {},
   "source": [
    "# 2.\n",
    "What is the value of a dictionary value with the key &#39;foo&#39; and the value 42?"
   ]
  },
  {
   "cell_type": "markdown",
   "id": "4046d201",
   "metadata": {},
   "source": [
    "<b>Answers:</b><br>"
   ]
  },
  {
   "cell_type": "code",
   "execution_count": 2,
   "id": "e4954c0d",
   "metadata": {},
   "outputs": [
    {
     "data": {
      "text/plain": [
       "dict_values([42])"
      ]
     },
     "execution_count": 2,
     "metadata": {},
     "output_type": "execute_result"
    }
   ],
   "source": [
    "dict = {'foo' : 42}\n",
    "dict.values()"
   ]
  },
  {
   "cell_type": "markdown",
   "id": "ea101cea",
   "metadata": {},
   "source": [
    "# 3.\n",
    "What is the most significant distinction between a dictionary and a list?"
   ]
  },
  {
   "cell_type": "markdown",
   "id": "41d5fa67",
   "metadata": {},
   "source": [
    "<b>Answers:</b><br>\n",
    "     Dictionaries are represented by {} where as listed are represented by []<br>\n",
    "    The Items stored in a dictionary are Unordered , while the items in a list are ordered\n",
    "    "
   ]
  },
  {
   "cell_type": "markdown",
   "id": "c58e9aee",
   "metadata": {},
   "source": [
    "# 4.\n",
    "What happens if you try to access spam[&#39;foo&#39;] if spam is {&#39;bar&#39;: 100}?"
   ]
  },
  {
   "cell_type": "markdown",
   "id": "568aec43",
   "metadata": {},
   "source": [
    "<b>Answers:</b><br>\n",
    "     we will get a keyError KeyError: 'foo'<br>\n",
    "     As there is no such key foo if it was there than we would have gotten the value of that key value pair"
   ]
  },
  {
   "cell_type": "code",
   "execution_count": 7,
   "id": "0322a702",
   "metadata": {},
   "outputs": [
    {
     "name": "stdout",
     "output_type": "stream",
     "text": [
      "spam {'bar': 100}\n"
     ]
    },
    {
     "ename": "KeyError",
     "evalue": "'foo'",
     "output_type": "error",
     "traceback": [
      "\u001b[1;31m---------------------------------------------------------------------------\u001b[0m",
      "\u001b[1;31mKeyError\u001b[0m                                  Traceback (most recent call last)",
      "Input \u001b[1;32mIn [7]\u001b[0m, in \u001b[0;36m<cell line: 4>\u001b[1;34m()\u001b[0m\n\u001b[0;32m      2\u001b[0m \u001b[38;5;28mprint\u001b[39m(\u001b[38;5;124m\"\u001b[39m\u001b[38;5;124mspam\u001b[39m\u001b[38;5;124m\"\u001b[39m, spam)\n\u001b[0;32m      3\u001b[0m spam[\u001b[38;5;124m'\u001b[39m\u001b[38;5;124mbar\u001b[39m\u001b[38;5;124m'\u001b[39m]\n\u001b[1;32m----> 4\u001b[0m \u001b[43mspam\u001b[49m\u001b[43m[\u001b[49m\u001b[38;5;124;43m'\u001b[39;49m\u001b[38;5;124;43mfoo\u001b[39;49m\u001b[38;5;124;43m'\u001b[39;49m\u001b[43m]\u001b[49m\n",
      "\u001b[1;31mKeyError\u001b[0m: 'foo'"
     ]
    }
   ],
   "source": [
    "spam={'bar' : 100}\n",
    "print(\"spam\", spam)\n",
    "spam['bar']\n",
    "spam['foo']\n"
   ]
  },
  {
   "cell_type": "markdown",
   "id": "dcd17669",
   "metadata": {},
   "source": [
    "# 5. \n",
    "If a dictionary is stored in spam, what is the difference between the expressions &#39;cat&#39; in spam and\n",
    "&#39;cat&#39; in spam.keys()?"
   ]
  },
  {
   "cell_type": "markdown",
   "id": "e4b8ccf2",
   "metadata": {},
   "source": [
    "<b>Answers:</b><br>\n",
    "    In both cases, the expressions evaluate to True because the key 'cat' exists in the spam dictionary. However, the distinction lies in what specifically is being checked:<br>\n",
    "\n",
    "'cat' in spam checks for the presence of the key 'cat' directly within the dictionary.<br>\n",
    "'cat' in spam.keys() checks for the presence of the key 'cat' among the keys of the dictionary."
   ]
  },
  {
   "cell_type": "code",
   "execution_count": 8,
   "id": "27bde8e5",
   "metadata": {},
   "outputs": [
    {
     "name": "stdout",
     "output_type": "stream",
     "text": [
      "True\n"
     ]
    }
   ],
   "source": [
    "spam = {'cat': 'meow', 'dog': 'woof'}\n",
    "print('cat' in spam)  # True"
   ]
  },
  {
   "cell_type": "code",
   "execution_count": 9,
   "id": "eae042c1",
   "metadata": {},
   "outputs": [
    {
     "name": "stdout",
     "output_type": "stream",
     "text": [
      "True\n"
     ]
    }
   ],
   "source": [
    "spam = {'cat': 'meow', 'dog': 'woof'}\n",
    "print('cat' in spam.keys())  # True"
   ]
  },
  {
   "cell_type": "code",
   "execution_count": 15,
   "id": "db85ed92",
   "metadata": {},
   "outputs": [
    {
     "data": {
      "text/plain": [
       "dict_keys(['cat', 'dog'])"
      ]
     },
     "execution_count": 15,
     "metadata": {},
     "output_type": "execute_result"
    }
   ],
   "source": [
    "spam.keys()"
   ]
  },
  {
   "cell_type": "markdown",
   "id": "999c8d9c",
   "metadata": {},
   "source": [
    "# 6.\n",
    "If a dictionary is stored in spam, what is the difference between the expressions &#39;cat&#39; in spam and\n",
    "&#39;cat&#39; in spam.values()?"
   ]
  },
  {
   "cell_type": "code",
   "execution_count": 16,
   "id": "75e6bd3b",
   "metadata": {},
   "outputs": [],
   "source": [
    "#SAME QUESTION AS ABOVE"
   ]
  },
  {
   "cell_type": "markdown",
   "id": "a18853d9",
   "metadata": {},
   "source": [
    "# 7.\n",
    "What is a shortcut for the following code?\n",
    "if &#39;color&#39; not in spam:\n",
    "spam[&#39;color&#39;] = &#39;black&#39;"
   ]
  },
  {
   "cell_type": "markdown",
   "id": "6bc6c01a",
   "metadata": {},
   "source": [
    "<b>Answers:</b><br>\n",
    "    spam.setdefault('color', 'black')"
   ]
  },
  {
   "cell_type": "markdown",
   "id": "5625d1c9",
   "metadata": {},
   "source": [
    "# 8.\n",
    "How do you &quot;pretty print&quot; dictionary values using which module and function?"
   ]
  },
  {
   "cell_type": "code",
   "execution_count": null,
   "id": "dcf4a3a9",
   "metadata": {},
   "outputs": [],
   "source": [
    "<b>Answers:</b><br>\n",
    "    The pprint module provides a way to display data structures in a more readable and organized format"
   ]
  },
  {
   "cell_type": "code",
   "execution_count": 17,
   "id": "7e01e414",
   "metadata": {},
   "outputs": [
    {
     "name": "stdout",
     "output_type": "stream",
     "text": [
      "{'age': 22, 'city': 'ANKLESHWAR', 'name': 'RAKESH'}\n"
     ]
    }
   ],
   "source": [
    "import pprint\n",
    "\n",
    "my_dict = {'name': 'RAKESH', 'age': 22, 'city': 'ANKLESHWAR'}\n",
    "\n",
    "pprint.pprint(my_dict)"
   ]
  },
  {
   "cell_type": "code",
   "execution_count": 18,
   "id": "3cf6c1b4",
   "metadata": {},
   "outputs": [
    {
     "name": "stdout",
     "output_type": "stream",
     "text": [
      "{'address': {'city': 'ANKLESHWAR', 'street': 'ONGC'},\n",
      " 'age': 22,\n",
      " 'name': 'rAKESH'}\n"
     ]
    }
   ],
   "source": [
    "import pprint\n",
    "\n",
    "nested_dict = {'name': 'rAKESH', 'age': 22, 'address': {'street': 'ONGC', 'city': 'ANKLESHWAR'}}\n",
    "\n",
    "pprint.pprint(nested_dict)"
   ]
  },
  {
   "cell_type": "code",
   "execution_count": 20,
   "id": "4fc6744b",
   "metadata": {},
   "outputs": [
    {
     "name": "stdout",
     "output_type": "stream",
     "text": [
      "The original dictionary is :  {'gfg': {'rate': 5, 'remark': 'good'}, 'cs': {'rate': 3}}\n",
      "The Pretty Print dictionary is : \n",
      "{\n",
      "    \"gfg\": {\n",
      "        \"rate\": 5,\n",
      "        \"remark\": \"good\"\n",
      "    },\n",
      "    \"cs\": {\n",
      "        \"rate\": 3\n",
      "    }\n",
      "}\n"
     ]
    }
   ],
   "source": [
    "# Importing json module\n",
    "import json\n",
    " \n",
    "# Initializing dictionary\n",
    "test_dict = {'gfg' : {'rate' : 5, 'remark' : 'good'}, 'cs' : {'rate' : 3}}\n",
    " \n",
    "# Printing original dictionary\n",
    "print(\"The original dictionary is : \", test_dict)\n",
    " \n",
    "# Using json.dumps() with indent argument to Pretty Print\n",
    "print(\"The Pretty Print dictionary is : \")\n",
    "pretty_print_dict = json.dumps(test_dict, indent=4)\n",
    "print(pretty_print_dict)"
   ]
  },
  {
   "cell_type": "code",
   "execution_count": null,
   "id": "93b45e66",
   "metadata": {},
   "outputs": [],
   "source": []
  }
 ],
 "metadata": {
  "kernelspec": {
   "display_name": "Python 3 (ipykernel)",
   "language": "python",
   "name": "python3"
  },
  "language_info": {
   "codemirror_mode": {
    "name": "ipython",
    "version": 3
   },
   "file_extension": ".py",
   "mimetype": "text/x-python",
   "name": "python",
   "nbconvert_exporter": "python",
   "pygments_lexer": "ipython3",
   "version": "3.9.12"
  }
 },
 "nbformat": 4,
 "nbformat_minor": 5
}
