{
 "cells": [
  {
   "cell_type": "markdown",
   "id": "2ae5f640",
   "metadata": {},
   "source": [
    "# 1.\n",
    "What is the relationship between def statements and lambda expressions ?"
   ]
  },
  {
   "cell_type": "markdown",
   "id": "214f71d8",
   "metadata": {},
   "source": [
    "<b>Answer:</b><br>\n",
    "    def statement is used to create a normal function whereas lamba expressions are used to create Anonymous functions. which can be assigned to a variable and can be called using the variable later in function.<br>\n",
    "Lambda's body is a single expression and not a block of statements like def statement. The lambda expression's body is similar to what we'd put in a def body's return statement. We simply type the result as an expression instead of explicitly returning it. Because it is limited to an expression, a lambda is less general than a def statement."
   ]
  },
  {
   "cell_type": "markdown",
   "id": "5cc1c771",
   "metadata": {},
   "source": [
    "# 2.\n",
    "What is the benefit of lambda?"
   ]
  },
  {
   "cell_type": "markdown",
   "id": "44d1507f",
   "metadata": {},
   "source": [
    "<b>Answer:</b><br>\n",
    "Benefits of lambda functions are:<br>\n",
    "1.It can be used to create Nameless/Anonymous functions inside some complex functions if we are planning to use it only once.<br>\n",
    "2.Moderate to small functions can be created in a single line<br>\n",
    "3.Fuctions created using lambda expressions can be assigned to a variable and can be used by simply calling the variable.<br>"
   ]
  },
  {
   "cell_type": "markdown",
   "id": "4e2f7ba3",
   "metadata": {},
   "source": [
    "# 3.\n",
    "Compare and contrast map, filter, and reduce."
   ]
  },
  {
   "cell_type": "markdown",
   "id": "34cde6c2",
   "metadata": {},
   "source": [
    "<b>Answer:</b><br>\n",
    "    MAP : Purpose: The map function is used to apply a given function to each item in an iterable (e.g., a list) and return a new iterable (usually a map object or a list) containing the results of applying the function to each item."
   ]
  },
  {
   "cell_type": "code",
   "execution_count": 2,
   "id": "7dc39f5f",
   "metadata": {},
   "outputs": [
    {
     "data": {
      "text/plain": [
       "[1, 4, 9, 16, 25]"
      ]
     },
     "execution_count": 2,
     "metadata": {},
     "output_type": "execute_result"
    }
   ],
   "source": [
    "# Using map to square each element in a list\n",
    "numbers = [1, 2, 3, 4, 5]\n",
    "squared_numbers = list(map(lambda x: x**2, numbers))\n",
    "squared_numbers\n"
   ]
  },
  {
   "cell_type": "markdown",
   "id": "8624b16e",
   "metadata": {},
   "source": [
    "<b>Answer:</b><br>\n",
    "    FILTER :Purpose: The filter function is used to filter elements from an iterable based on a given function (usually a lambda function) that returns True or False. It returns a new iterable (again, usually a filter object or a list) containing only the elements for which the function returns True."
   ]
  },
  {
   "cell_type": "code",
   "execution_count": 5,
   "id": "56220b7e",
   "metadata": {},
   "outputs": [
    {
     "data": {
      "text/plain": [
       "[2, 4]"
      ]
     },
     "execution_count": 5,
     "metadata": {},
     "output_type": "execute_result"
    }
   ],
   "source": [
    "# Using filter to get even numbers from a list\n",
    "numbers = [1, 2, 3, 4, 5]\n",
    "even_numbers = list(filter(lambda x: x % 2 == 0, numbers))\n",
    "even_numbers\n"
   ]
  },
  {
   "cell_type": "markdown",
   "id": "f85f9701",
   "metadata": {},
   "source": [
    "<b>Answer:</b><br>\n",
    "   REDUCE : Purpose: The reduce function is used to accumulate or reduce a sequence of values into a single value by repeatedly applying a binary function (a function that takes two arguments) cumulatively to the items of the sequence, from left to right. It returns a single accumulated value."
   ]
  },
  {
   "cell_type": "code",
   "execution_count": 6,
   "id": "e8e7bd35",
   "metadata": {},
   "outputs": [
    {
     "data": {
      "text/plain": [
       "120"
      ]
     },
     "execution_count": 6,
     "metadata": {},
     "output_type": "execute_result"
    }
   ],
   "source": [
    "# Using reduce to find the product of all elements in a list\n",
    "from functools import reduce\n",
    "numbers = [1, 2, 3, 4, 5]\n",
    "product = reduce(lambda x, y: x * y, numbers)\n",
    "# Result: 120 (1*2*3*4*5)\n",
    "product"
   ]
  },
  {
   "cell_type": "markdown",
   "id": "033ce2c7",
   "metadata": {},
   "source": [
    "# 4.\n",
    "What are function annotations, and how are they used?"
   ]
  },
  {
   "cell_type": "code",
   "execution_count": 7,
   "id": "ccfacf53",
   "metadata": {},
   "outputs": [],
   "source": [
    "def add(a: int, b: int) -> int:\n",
    "    return a + b"
   ]
  },
  {
   "cell_type": "markdown",
   "id": "42ab4106",
   "metadata": {},
   "source": [
    "<b>Answer:</b><br> In simple words, function annotations in Python are like labels or notes that we can attach to a function's parameters (inputs) and its return value (output). These labels provide extra information about what kind of data is expected for the inputs and what kind of data the function will give back as output.<br>\n",
    "For example, if you have a function that adds two numbers, you can use annotations to say, \" this function should get two numbers as input, and it will give back another number.\" These annotations can help us understand how to use the function correctly.<br>\n",
    "In above example we can clearly see that in the def function we have annotated the variable a and b as integer so we have to pass the integer as input.In simple words we are defining the datatypes."
   ]
  },
  {
   "cell_type": "markdown",
   "id": "76106d5b",
   "metadata": {},
   "source": [
    "# 5.\n",
    "What are recursive functions, and how are they used?"
   ]
  },
  {
   "cell_type": "markdown",
   "id": "6bb98698",
   "metadata": {},
   "source": [
    "<b>Answer:</b><br>\n",
    "    A recursive function is a function that calls itself during its execution. This means that the function will continue to call itself and repeat its behavior until some condition is met to return a result"
   ]
  },
  {
   "cell_type": "code",
   "execution_count": 9,
   "id": "c1fee3aa",
   "metadata": {},
   "outputs": [
    {
     "data": {
      "text/plain": [
       "120"
      ]
     },
     "execution_count": 9,
     "metadata": {},
     "output_type": "execute_result"
    }
   ],
   "source": [
    "# example\n",
    "def fact(x):\n",
    "    if x == 1 :\n",
    "        return 1\n",
    "    else :\n",
    "        return x * fact(x-1) # recurssion\n",
    "    \n",
    "fact(5)"
   ]
  },
  {
   "cell_type": "markdown",
   "id": "66ae4ea2",
   "metadata": {},
   "source": [
    "# 6. \n",
    "What are some general design guidelines for coding functions?"
   ]
  },
  {
   "cell_type": "markdown",
   "id": "3f68b124",
   "metadata": {},
   "source": [
    "<b>Answer:</b><br>\n",
    "1.Use 4-space indentation and no tabs.<br>\n",
    "2.Use docstrings<br>\n",
    "3.Wrap linethat they don’t exceed 79 characters<br>\n",
    "4.Use of regular and updated comments are valuable to both the coders and users<br>\n",
    "5.Use of trailing commas : in case of tuple -> ('good',)<br>\n",
    "6.Use Python’s default UTF-8 or ASCII encodings and not any fancy encodings<br>\n",
    "7.Follow Naming Conventions<br>\n",
    "8.Characters that should not be used for identifiers : ‘l’ (lowercase letter el), ‘O’ (uppercase letter oh), ‘I’ (uppercase letter eye) as single character variable names as these are similar to the numerals one and zero.<br> \n",
    "9. Don’t use non-ASCII characters in identifiers <br>\n",
    "10. Name your classes and functions consistently <br>\n",
    "11. While naming of function of methods always use self for the first argument<br>\n",
    "12.Avoid using digits while choosing a variable name<br>\n",
    "13.try to use a name for the function which conveys the purpose of the function"
   ]
  },
  {
   "cell_type": "markdown",
   "id": "fcd3abe1",
   "metadata": {},
   "source": [
    "# 7. \n",
    "Name three or more ways that functions can communicate results to a caller."
   ]
  },
  {
   "cell_type": "markdown",
   "id": "650e163a",
   "metadata": {},
   "source": [
    "<b>Answer:</b><br>Some of the ways in which a function can communicate with the calling function is:<br>\n",
    "        1.print.<br>\n",
    "        2.return.<br>\n",
    "        3.yield."
   ]
  },
  {
   "cell_type": "code",
   "execution_count": null,
   "id": "f7c13c93",
   "metadata": {},
   "outputs": [],
   "source": []
  },
  {
   "cell_type": "code",
   "execution_count": null,
   "id": "c7769d59",
   "metadata": {},
   "outputs": [],
   "source": []
  },
  {
   "cell_type": "code",
   "execution_count": null,
   "id": "1277f8e4",
   "metadata": {},
   "outputs": [],
   "source": []
  },
  {
   "cell_type": "code",
   "execution_count": null,
   "id": "d1bfbc25",
   "metadata": {},
   "outputs": [],
   "source": []
  },
  {
   "cell_type": "code",
   "execution_count": null,
   "id": "64f224cf",
   "metadata": {},
   "outputs": [],
   "source": []
  }
 ],
 "metadata": {
  "kernelspec": {
   "display_name": "Python 3 (ipykernel)",
   "language": "python",
   "name": "python3"
  },
  "language_info": {
   "codemirror_mode": {
    "name": "ipython",
    "version": 3
   },
   "file_extension": ".py",
   "mimetype": "text/x-python",
   "name": "python",
   "nbconvert_exporter": "python",
   "pygments_lexer": "ipython3",
   "version": "3.9.12"
  }
 },
 "nbformat": 4,
 "nbformat_minor": 5
}
