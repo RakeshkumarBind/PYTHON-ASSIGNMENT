{
 "cells": [
  {
   "cell_type": "markdown",
   "id": "6b8a7427",
   "metadata": {},
   "source": [
    "# 1.\n",
    "Why are functions advantageous to have in your programs?"
   ]
  },
  {
   "cell_type": "markdown",
   "id": "87cb4c70",
   "metadata": {},
   "source": [
    "<b>Answers:</b><br>\n",
    "1. By including functions, we can prevent repeating the same code block repeatedly in a program.<br>\n",
    "2. Python functions, once defined, can be called many times and from anywhere in a program.(<b>REUSABILITY</b>)<br>\n",
    "3. If our Python program is large, it can be separated into numerous functions which is simple to track.<br>\n",
    "4. The key accomplishment of Python functions is we can return as many outputs as we want with different arguments."
   ]
  },
  {
   "cell_type": "markdown",
   "id": "f966f7c4",
   "metadata": {},
   "source": [
    "# 2.\n",
    "When does the code in a function run: when it is specified or when its called?"
   ]
  },
  {
   "cell_type": "markdown",
   "id": "53a9f964",
   "metadata": {},
   "source": [
    "<b>Answers:</b>The code in a function executes when the function is called, not when the function is defined."
   ]
  },
  {
   "cell_type": "markdown",
   "id": "4fc1ded9",
   "metadata": {},
   "source": [
    "# 3.\n",
    "What statement creates a function?"
   ]
  },
  {
   "cell_type": "markdown",
   "id": "62623500",
   "metadata": {},
   "source": [
    "<b>Answers:</b>\n",
    "In Python, you define a function with the def keyword, then write the function identifier (name) followed by parentheses and a colon example: def functionname( );"
   ]
  },
  {
   "cell_type": "markdown",
   "id": "3bd30bcc",
   "metadata": {},
   "source": [
    "# 4.\n",
    "What is the difference between a function and a function call?"
   ]
  },
  {
   "cell_type": "markdown",
   "id": "b64d4904",
   "metadata": {},
   "source": [
    "<b>Answers:</b>A function is a piece of code which enhanced the reusability and modularity of your program. It means that piece of code need not be written again. A function call means invoking or calling that function. Unless a function is called there is no use of that function."
   ]
  },
  {
   "cell_type": "markdown",
   "id": "ffb8ea7b",
   "metadata": {},
   "source": [
    "\n",
    "# 5.\n",
    "How many global scopes are there in a Python program? How many local scopes?"
   ]
  },
  {
   "cell_type": "markdown",
   "id": "22dfccc1",
   "metadata": {},
   "source": [
    "<b>Answers:</b>There is only one global Python scope per program execution. This scope remains in existence until the program terminates and all its names are forgotten. Otherwise, the next time you were to run the program, the names would remember their values from the previous run."
   ]
  },
  {
   "cell_type": "markdown",
   "id": "1396116a",
   "metadata": {},
   "source": [
    "# 6.\n",
    "What happens to variables in a local scope when the function call returns?"
   ]
  },
  {
   "cell_type": "markdown",
   "id": "1918edc5",
   "metadata": {},
   "source": [
    "<b>Answers:</b>When the execution of the function terminates (returns), the local variables are destroyed."
   ]
  },
  {
   "cell_type": "markdown",
   "id": "1cf607bb",
   "metadata": {},
   "source": [
    "# 7. \n",
    "What is the concept of a return value? Is it possible to have a return value in an expression?"
   ]
  },
  {
   "cell_type": "markdown",
   "id": "7be14e0a",
   "metadata": {},
   "source": [
    "<b>Answers:</b>A return statement is used to end the execution of the function call and “returns” the result (value of the expression following the return keyword) to the caller. The statements after the return statements are not executed. If the return statement is without any expression, then the special value None is returned. A return statement is overall used to invoke a function so that the passed statements can be executed.\n",
    "YES\n",
    "\n"
   ]
  },
  {
   "cell_type": "markdown",
   "id": "42f5c098",
   "metadata": {},
   "source": [
    "# 8.\n",
    "If a function does not have a return statement, what is the return value of a call to that function?"
   ]
  },
  {
   "cell_type": "markdown",
   "id": "ad94b25f",
   "metadata": {},
   "source": [
    "<b>Answers:</b>If a function doesn't specify a return value, it returns None"
   ]
  },
  {
   "cell_type": "markdown",
   "id": "255cbb16",
   "metadata": {},
   "source": [
    "# 9. \n",
    "How do you make a function variable refer to the global variable?"
   ]
  },
  {
   "cell_type": "markdown",
   "id": "8d6b6779",
   "metadata": {},
   "source": [
    "<b>Answers:</b>By Using the global keyword to declare which variables are global."
   ]
  },
  {
   "cell_type": "markdown",
   "id": "6674a76f",
   "metadata": {},
   "source": [
    "# 10. \n",
    "What is the data type of None?"
   ]
  },
  {
   "cell_type": "markdown",
   "id": "f8c9dd31",
   "metadata": {},
   "source": [
    "<b>Answers:</b>The data type of None is NoneType."
   ]
  },
  {
   "cell_type": "markdown",
   "id": "79a378c5",
   "metadata": {},
   "source": [
    "# 11.\n",
    "What does the sentence import areallyourpetsnamederic do?"
   ]
  },
  {
   "cell_type": "code",
   "execution_count": 7,
   "id": "86a6979a",
   "metadata": {},
   "outputs": [
    {
     "ename": "ModuleNotFoundError",
     "evalue": "No module named 'areallyourpetsnamederic'",
     "output_type": "error",
     "traceback": [
      "\u001b[1;31m---------------------------------------------------------------------------\u001b[0m",
      "\u001b[1;31mModuleNotFoundError\u001b[0m                       Traceback (most recent call last)",
      "Input \u001b[1;32mIn [7]\u001b[0m, in \u001b[0;36m<cell line: 1>\u001b[1;34m()\u001b[0m\n\u001b[1;32m----> 1\u001b[0m \u001b[38;5;28;01mimport\u001b[39;00m \u001b[38;5;21;01mareallyourpetsnamederic\u001b[39;00m\n",
      "\u001b[1;31mModuleNotFoundError\u001b[0m: No module named 'areallyourpetsnamederic'"
     ]
    }
   ],
   "source": [
    "import areallyourpetsnamederic "
   ]
  },
  {
   "cell_type": "markdown",
   "id": "8293c1d8",
   "metadata": {},
   "source": [
    "<b>Answers:</b>We can see above that it is ModuleNotFoundError: No module named 'areallyourpetsnamederic' error whichmeans there is no such module available"
   ]
  },
  {
   "cell_type": "markdown",
   "id": "13992774",
   "metadata": {},
   "source": [
    "# 12.\n",
    "If you had a bacon() feature in a spam module, what would you call it after importing spam?"
   ]
  },
  {
   "cell_type": "markdown",
   "id": "14e020bd",
   "metadata": {},
   "source": [
    "<b>Answers:</b>This function can be called with spam.bacon()"
   ]
  },
  {
   "cell_type": "markdown",
   "id": "97b0b53e",
   "metadata": {},
   "source": [
    "# 13.\n",
    "What can you do to save a programme from crashing if it encounters an error?"
   ]
  },
  {
   "cell_type": "markdown",
   "id": "cdd24b2b",
   "metadata": {},
   "source": [
    "<b>Answers:</b>Each and every exception has to be handled by the programmer to avoid the program from crashing abruptly. This is done by writing additional code in a program to give proper messages or instructions to the user on encountering an exception. This process is known as exception handling."
   ]
  },
  {
   "cell_type": "markdown",
   "id": "3006b352",
   "metadata": {},
   "source": [
    "# 14.\n",
    "What is the purpose of the try clause? What is the purpose of the except clause?"
   ]
  },
  {
   "cell_type": "markdown",
   "id": "4d27623d",
   "metadata": {},
   "source": [
    "<b>Answers:</b>The try block lets you test a block of code for errors. The except block lets you handle the error."
   ]
  },
  {
   "cell_type": "code",
   "execution_count": null,
   "id": "68122605",
   "metadata": {},
   "outputs": [],
   "source": []
  }
 ],
 "metadata": {
  "kernelspec": {
   "display_name": "Python 3 (ipykernel)",
   "language": "python",
   "name": "python3"
  },
  "language_info": {
   "codemirror_mode": {
    "name": "ipython",
    "version": 3
   },
   "file_extension": ".py",
   "mimetype": "text/x-python",
   "name": "python",
   "nbconvert_exporter": "python",
   "pygments_lexer": "ipython3",
   "version": "3.9.12"
  }
 },
 "nbformat": 4,
 "nbformat_minor": 5
}
