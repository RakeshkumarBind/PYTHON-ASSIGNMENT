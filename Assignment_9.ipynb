{
 "cells": [
  {
   "cell_type": "markdown",
   "id": "f5cbc5c4",
   "metadata": {},
   "source": [
    "# 1.\n",
    "To what does a relative path refer?"
   ]
  },
  {
   "cell_type": "markdown",
   "id": "2956fb74",
   "metadata": {},
   "source": [
    "<b>Answer:</b><br>\n",
    "    The relative path is the path of a file with respect to your current working directory."
   ]
  },
  {
   "cell_type": "markdown",
   "id": "f7c19844",
   "metadata": {},
   "source": [
    "# 2.\n",
    "What does an absolute path start with your operating system?"
   ]
  },
  {
   "cell_type": "markdown",
   "id": "6e049beb",
   "metadata": {},
   "source": [
    "<b>Answer:</b><br>\n",
    "     In Linux based systems the absolute path starts with /. Where as in Windows based systems absolute path starts with C:"
   ]
  },
  {
   "cell_type": "markdown",
   "id": "6661e070",
   "metadata": {},
   "source": [
    "# 3.\n",
    "What do the functions os.getcwd() and os.chdir() do?"
   ]
  },
  {
   "cell_type": "markdown",
   "id": "75d9e9bf",
   "metadata": {},
   "source": [
    "<b>Answer:</b><br>\n",
    "    getcwd() : CWD stands for Current Working Directory. This function allows you to see what your current working directory is.\n",
    "\n",
    "chdir(\"path-to-dir\") : Short for CHange DIRectory, this function allows you to set the current working directory to a path  of your choice."
   ]
  },
  {
   "cell_type": "markdown",
   "id": "cf2e5b58",
   "metadata": {},
   "source": [
    "# 4.\n",
    "What are the . and .. folders?"
   ]
  },
  {
   "cell_type": "markdown",
   "id": "06a4bacb",
   "metadata": {},
   "source": [
    "<b>Answer:</b><br>\n",
    "    . Represents the Current Directory Whereas .. Represents the Parent Directory of the Current Directory"
   ]
  },
  {
   "cell_type": "markdown",
   "id": "d9308d8e",
   "metadata": {},
   "source": [
    "# 5.\n",
    "In C:\\bacon\\eggs\\spam.txt, which part is the dir name, and which part is the base name?"
   ]
  },
  {
   "cell_type": "markdown",
   "id": "2230ff73",
   "metadata": {},
   "source": [
    "<b>Answer:</b><br>\n",
    "    C:\\bacon\\eggs is the dir name, while spam.txt is the base name."
   ]
  },
  {
   "cell_type": "markdown",
   "id": "b794758c",
   "metadata": {},
   "source": [
    "# 6.\n",
    "What are the three “mode” arguments that can be passed to the open() function?"
   ]
  },
  {
   "cell_type": "markdown",
   "id": "f21408a0",
   "metadata": {},
   "source": [
    "<b>Answer:</b><br>\n",
    "    The string 'r' for read mode, 'w' for write mode, and 'a' for append mode"
   ]
  },
  {
   "cell_type": "markdown",
   "id": "24bd3133",
   "metadata": {},
   "source": [
    "# 7. \n",
    "What happens if an existing file is opened in write mode?"
   ]
  },
  {
   "cell_type": "markdown",
   "id": "3a57ed66",
   "metadata": {},
   "source": [
    "<b>Answer:</b><br>\n",
    "    Using this mode will overwrite any existing content in a file. If the given file does not exist, a new one will be created"
   ]
  },
  {
   "cell_type": "markdown",
   "id": "afaba7a2",
   "metadata": {},
   "source": [
    "# 8.\n",
    "How do you tell the difference between read() and readlines()?"
   ]
  },
  {
   "cell_type": "markdown",
   "id": "757a1799",
   "metadata": {},
   "source": [
    "<b>Answer:</b><br>\n",
    "    the main difference between read() and readlines() is that read() returns the entire content of the file as a single string, while readlines() returns a list of lines where each line is represented as a string. The choice between the two methods depends on how you want to process the data from the file, either as a single string or as separate lines.<br>\n",
    "    In short , read() reads the entire contents of the file into a string. readline() just reads file till the next line."
   ]
  },
  {
   "cell_type": "markdown",
   "id": "90350d8b",
   "metadata": {},
   "source": [
    "# 9. \n",
    "What data structure does a shelf value resemble?"
   ]
  },
  {
   "cell_type": "markdown",
   "id": "fa5b0f05",
   "metadata": {},
   "source": [
    "<b>Answer:</b><br>\n",
    "    A shelf value resembles a dictionary value; it has keys and values, along with keys() and values() methods that work similarly to the dictionary methods of the same names."
   ]
  }
 ],
 "metadata": {
  "kernelspec": {
   "display_name": "Python 3 (ipykernel)",
   "language": "python",
   "name": "python3"
  },
  "language_info": {
   "codemirror_mode": {
    "name": "ipython",
    "version": 3
   },
   "file_extension": ".py",
   "mimetype": "text/x-python",
   "name": "python",
   "nbconvert_exporter": "python",
   "pygments_lexer": "ipython3",
   "version": "3.9.12"
  }
 },
 "nbformat": 4,
 "nbformat_minor": 5
}
